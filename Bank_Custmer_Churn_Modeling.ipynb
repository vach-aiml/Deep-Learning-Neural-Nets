{
 "cells": [
  {
   "cell_type": "markdown",
   "metadata": {
    "id": "sb7Epo0VOB58"
   },
   "source": [
    "### Load tensorflow"
   ]
  },
  {
   "cell_type": "code",
   "execution_count": 1,
   "metadata": {
    "id": "fHpCNRv1OB5-"
   },
   "outputs": [],
   "source": [
    "import tensorflow as tf"
   ]
  },
  {
   "cell_type": "code",
   "execution_count": 2,
   "metadata": {
    "colab": {
     "base_uri": "https://localhost:8080/",
     "height": 36
    },
    "id": "iiMR4fx0yAr4",
    "outputId": "85a3cf5e-ceba-4168-931f-70b45e099a37"
   },
   "outputs": [
    {
     "data": {
      "application/vnd.google.colaboratory.intrinsic+json": {
       "type": "string"
      },
      "text/plain": [
       "'2.4.1'"
      ]
     },
     "execution_count": 2,
     "metadata": {
      "tags": []
     },
     "output_type": "execute_result"
    }
   ],
   "source": [
    "tf.__version__"
   ]
  },
  {
   "cell_type": "markdown",
   "metadata": {
    "id": "DxJDmJqqOB6K"
   },
   "source": [
    "### Collect Data"
   ]
  },
  {
   "cell_type": "code",
   "execution_count": 28,
   "metadata": {
    "id": "KiObW4V4SIOz"
   },
   "outputs": [],
   "source": [
    "import pandas as pd\n",
    "import numpy as np\n",
    "import keras\n",
    "from keras.models import Sequential\n",
    "from keras.layers import Dense\n",
    "from sklearn import model_selection\n",
    "from sklearn.model_selection import train_test_split\n",
    "from sklearn.preprocessing import LabelEncoder, OneHotEncoder\n",
    "from sklearn.metrics import confusion_matrix"
   ]
  },
  {
   "cell_type": "code",
   "execution_count": 4,
   "metadata": {
    "colab": {
     "base_uri": "https://localhost:8080/"
    },
    "id": "Js1O8jirvrGk",
    "outputId": "07f6edae-d60c-471a-eb56-024e6efcdac5"
   },
   "outputs": [
    {
     "name": "stdout",
     "output_type": "stream",
     "text": [
      "Drive already mounted at /content/drive/; to attempt to forcibly remount, call drive.mount(\"/content/drive/\", force_remount=True).\n"
     ]
    }
   ],
   "source": [
    "from google.colab import drive\n",
    "drive.mount('/content/drive/')"
   ]
  },
  {
   "cell_type": "code",
   "execution_count": 7,
   "metadata": {
    "id": "B4yQKMiJOB6R"
   },
   "outputs": [],
   "source": [
    "df1 = pd.read_csv('/content/drive/MyDrive/bank.csv')"
   ]
  },
  {
   "cell_type": "code",
   "execution_count": 9,
   "metadata": {
    "colab": {
     "base_uri": "https://localhost:8080/",
     "height": 226
    },
    "id": "df_vIXkTyS_R",
    "outputId": "bd6ac490-38a5-4e36-8de5-ffef2d58d401"
   },
   "outputs": [
    {
     "data": {
      "text/html": [
       "<div>\n",
       "<style scoped>\n",
       "    .dataframe tbody tr th:only-of-type {\n",
       "        vertical-align: middle;\n",
       "    }\n",
       "\n",
       "    .dataframe tbody tr th {\n",
       "        vertical-align: top;\n",
       "    }\n",
       "\n",
       "    .dataframe thead th {\n",
       "        text-align: right;\n",
       "    }\n",
       "</style>\n",
       "<table border=\"1\" class=\"dataframe\">\n",
       "  <thead>\n",
       "    <tr style=\"text-align: right;\">\n",
       "      <th></th>\n",
       "      <th>RowNumber</th>\n",
       "      <th>CustomerId</th>\n",
       "      <th>Surname</th>\n",
       "      <th>CreditScore</th>\n",
       "      <th>Geography</th>\n",
       "      <th>Gender</th>\n",
       "      <th>Age</th>\n",
       "      <th>Tenure</th>\n",
       "      <th>Balance</th>\n",
       "      <th>NumOfProducts</th>\n",
       "      <th>HasCrCard</th>\n",
       "      <th>IsActiveMember</th>\n",
       "      <th>EstimatedSalary</th>\n",
       "      <th>Exited</th>\n",
       "    </tr>\n",
       "  </thead>\n",
       "  <tbody>\n",
       "    <tr>\n",
       "      <th>0</th>\n",
       "      <td>1</td>\n",
       "      <td>15634602</td>\n",
       "      <td>Hargrave</td>\n",
       "      <td>619</td>\n",
       "      <td>France</td>\n",
       "      <td>Female</td>\n",
       "      <td>42</td>\n",
       "      <td>2</td>\n",
       "      <td>0.00</td>\n",
       "      <td>1</td>\n",
       "      <td>1</td>\n",
       "      <td>1</td>\n",
       "      <td>101348.88</td>\n",
       "      <td>1</td>\n",
       "    </tr>\n",
       "    <tr>\n",
       "      <th>1</th>\n",
       "      <td>2</td>\n",
       "      <td>15647311</td>\n",
       "      <td>Hill</td>\n",
       "      <td>608</td>\n",
       "      <td>Spain</td>\n",
       "      <td>Female</td>\n",
       "      <td>41</td>\n",
       "      <td>1</td>\n",
       "      <td>83807.86</td>\n",
       "      <td>1</td>\n",
       "      <td>0</td>\n",
       "      <td>1</td>\n",
       "      <td>112542.58</td>\n",
       "      <td>0</td>\n",
       "    </tr>\n",
       "    <tr>\n",
       "      <th>2</th>\n",
       "      <td>3</td>\n",
       "      <td>15619304</td>\n",
       "      <td>Onio</td>\n",
       "      <td>502</td>\n",
       "      <td>France</td>\n",
       "      <td>Female</td>\n",
       "      <td>42</td>\n",
       "      <td>8</td>\n",
       "      <td>159660.80</td>\n",
       "      <td>3</td>\n",
       "      <td>1</td>\n",
       "      <td>0</td>\n",
       "      <td>113931.57</td>\n",
       "      <td>1</td>\n",
       "    </tr>\n",
       "    <tr>\n",
       "      <th>3</th>\n",
       "      <td>4</td>\n",
       "      <td>15701354</td>\n",
       "      <td>Boni</td>\n",
       "      <td>699</td>\n",
       "      <td>France</td>\n",
       "      <td>Female</td>\n",
       "      <td>39</td>\n",
       "      <td>1</td>\n",
       "      <td>0.00</td>\n",
       "      <td>2</td>\n",
       "      <td>0</td>\n",
       "      <td>0</td>\n",
       "      <td>93826.63</td>\n",
       "      <td>0</td>\n",
       "    </tr>\n",
       "    <tr>\n",
       "      <th>4</th>\n",
       "      <td>5</td>\n",
       "      <td>15737888</td>\n",
       "      <td>Mitchell</td>\n",
       "      <td>850</td>\n",
       "      <td>Spain</td>\n",
       "      <td>Female</td>\n",
       "      <td>43</td>\n",
       "      <td>2</td>\n",
       "      <td>125510.82</td>\n",
       "      <td>1</td>\n",
       "      <td>1</td>\n",
       "      <td>1</td>\n",
       "      <td>79084.10</td>\n",
       "      <td>0</td>\n",
       "    </tr>\n",
       "  </tbody>\n",
       "</table>\n",
       "</div>"
      ],
      "text/plain": [
       "   RowNumber  CustomerId   Surname  ...  IsActiveMember EstimatedSalary Exited\n",
       "0          1    15634602  Hargrave  ...               1       101348.88      1\n",
       "1          2    15647311      Hill  ...               1       112542.58      0\n",
       "2          3    15619304      Onio  ...               0       113931.57      1\n",
       "3          4    15701354      Boni  ...               0        93826.63      0\n",
       "4          5    15737888  Mitchell  ...               1        79084.10      0\n",
       "\n",
       "[5 rows x 14 columns]"
      ]
     },
     "execution_count": 9,
     "metadata": {
      "tags": []
     },
     "output_type": "execute_result"
    }
   ],
   "source": [
    "df1.head()"
   ]
  },
  {
   "cell_type": "code",
   "execution_count": 10,
   "metadata": {
    "colab": {
     "base_uri": "https://localhost:8080/",
     "height": 226
    },
    "id": "q8E_mZiIyWOl",
    "outputId": "626f6de3-3afc-49cc-b7a7-9dccac982623"
   },
   "outputs": [
    {
     "data": {
      "text/html": [
       "<div>\n",
       "<style scoped>\n",
       "    .dataframe tbody tr th:only-of-type {\n",
       "        vertical-align: middle;\n",
       "    }\n",
       "\n",
       "    .dataframe tbody tr th {\n",
       "        vertical-align: top;\n",
       "    }\n",
       "\n",
       "    .dataframe thead th {\n",
       "        text-align: right;\n",
       "    }\n",
       "</style>\n",
       "<table border=\"1\" class=\"dataframe\">\n",
       "  <thead>\n",
       "    <tr style=\"text-align: right;\">\n",
       "      <th></th>\n",
       "      <th>RowNumber</th>\n",
       "      <th>CustomerId</th>\n",
       "      <th>Surname</th>\n",
       "      <th>CreditScore</th>\n",
       "      <th>Geography</th>\n",
       "      <th>Gender</th>\n",
       "      <th>Age</th>\n",
       "      <th>Tenure</th>\n",
       "      <th>Balance</th>\n",
       "      <th>NumOfProducts</th>\n",
       "      <th>HasCrCard</th>\n",
       "      <th>IsActiveMember</th>\n",
       "      <th>EstimatedSalary</th>\n",
       "      <th>Exited</th>\n",
       "    </tr>\n",
       "  </thead>\n",
       "  <tbody>\n",
       "    <tr>\n",
       "      <th>9995</th>\n",
       "      <td>9996</td>\n",
       "      <td>15606229</td>\n",
       "      <td>Obijiaku</td>\n",
       "      <td>771</td>\n",
       "      <td>France</td>\n",
       "      <td>Male</td>\n",
       "      <td>39</td>\n",
       "      <td>5</td>\n",
       "      <td>0.00</td>\n",
       "      <td>2</td>\n",
       "      <td>1</td>\n",
       "      <td>0</td>\n",
       "      <td>96270.64</td>\n",
       "      <td>0</td>\n",
       "    </tr>\n",
       "    <tr>\n",
       "      <th>9996</th>\n",
       "      <td>9997</td>\n",
       "      <td>15569892</td>\n",
       "      <td>Johnstone</td>\n",
       "      <td>516</td>\n",
       "      <td>France</td>\n",
       "      <td>Male</td>\n",
       "      <td>35</td>\n",
       "      <td>10</td>\n",
       "      <td>57369.61</td>\n",
       "      <td>1</td>\n",
       "      <td>1</td>\n",
       "      <td>1</td>\n",
       "      <td>101699.77</td>\n",
       "      <td>0</td>\n",
       "    </tr>\n",
       "    <tr>\n",
       "      <th>9997</th>\n",
       "      <td>9998</td>\n",
       "      <td>15584532</td>\n",
       "      <td>Liu</td>\n",
       "      <td>709</td>\n",
       "      <td>France</td>\n",
       "      <td>Female</td>\n",
       "      <td>36</td>\n",
       "      <td>7</td>\n",
       "      <td>0.00</td>\n",
       "      <td>1</td>\n",
       "      <td>0</td>\n",
       "      <td>1</td>\n",
       "      <td>42085.58</td>\n",
       "      <td>1</td>\n",
       "    </tr>\n",
       "    <tr>\n",
       "      <th>9998</th>\n",
       "      <td>9999</td>\n",
       "      <td>15682355</td>\n",
       "      <td>Sabbatini</td>\n",
       "      <td>772</td>\n",
       "      <td>Germany</td>\n",
       "      <td>Male</td>\n",
       "      <td>42</td>\n",
       "      <td>3</td>\n",
       "      <td>75075.31</td>\n",
       "      <td>2</td>\n",
       "      <td>1</td>\n",
       "      <td>0</td>\n",
       "      <td>92888.52</td>\n",
       "      <td>1</td>\n",
       "    </tr>\n",
       "    <tr>\n",
       "      <th>9999</th>\n",
       "      <td>10000</td>\n",
       "      <td>15628319</td>\n",
       "      <td>Walker</td>\n",
       "      <td>792</td>\n",
       "      <td>France</td>\n",
       "      <td>Female</td>\n",
       "      <td>28</td>\n",
       "      <td>4</td>\n",
       "      <td>130142.79</td>\n",
       "      <td>1</td>\n",
       "      <td>1</td>\n",
       "      <td>0</td>\n",
       "      <td>38190.78</td>\n",
       "      <td>0</td>\n",
       "    </tr>\n",
       "  </tbody>\n",
       "</table>\n",
       "</div>"
      ],
      "text/plain": [
       "      RowNumber  CustomerId    Surname  ...  IsActiveMember EstimatedSalary Exited\n",
       "9995       9996    15606229   Obijiaku  ...               0        96270.64      0\n",
       "9996       9997    15569892  Johnstone  ...               1       101699.77      0\n",
       "9997       9998    15584532        Liu  ...               1        42085.58      1\n",
       "9998       9999    15682355  Sabbatini  ...               0        92888.52      1\n",
       "9999      10000    15628319     Walker  ...               0        38190.78      0\n",
       "\n",
       "[5 rows x 14 columns]"
      ]
     },
     "execution_count": 10,
     "metadata": {
      "tags": []
     },
     "output_type": "execute_result"
    }
   ],
   "source": [
    "df1.tail()"
   ]
  },
  {
   "cell_type": "markdown",
   "metadata": {
    "id": "fgkX6SEqOB6W"
   },
   "source": [
    "### Check all columns in the dataset"
   ]
  },
  {
   "cell_type": "code",
   "execution_count": 11,
   "metadata": {
    "colab": {
     "base_uri": "https://localhost:8080/"
    },
    "id": "7K8pWsNQOB6X",
    "outputId": "4d54f0e1-611c-4eb9-b119-557d7ffa0efc"
   },
   "outputs": [
    {
     "data": {
      "text/plain": [
       "Index(['RowNumber', 'CustomerId', 'Surname', 'CreditScore', 'Geography',\n",
       "       'Gender', 'Age', 'Tenure', 'Balance', 'NumOfProducts', 'HasCrCard',\n",
       "       'IsActiveMember', 'EstimatedSalary', 'Exited'],\n",
       "      dtype='object')"
      ]
     },
     "execution_count": 11,
     "metadata": {
      "tags": []
     },
     "output_type": "execute_result"
    }
   ],
   "source": [
    "df1.columns"
   ]
  },
  {
   "cell_type": "code",
   "execution_count": 13,
   "metadata": {
    "colab": {
     "base_uri": "https://localhost:8080/"
    },
    "id": "d6kLH8v6_b9a",
    "outputId": "fbdce5c2-b6f2-4347-f2c6-1c1da3978105"
   },
   "outputs": [
    {
     "data": {
      "text/plain": [
       "(10000, 14)"
      ]
     },
     "execution_count": 13,
     "metadata": {
      "tags": []
     },
     "output_type": "execute_result"
    }
   ],
   "source": [
    "df1.shape"
   ]
  },
  {
   "cell_type": "code",
   "execution_count": 14,
   "metadata": {
    "colab": {
     "base_uri": "https://localhost:8080/"
    },
    "id": "VsAUIAqH8ct4",
    "outputId": "ea671ee2-da29-4975-be67-23b71c3a5534"
   },
   "outputs": [
    {
     "name": "stdout",
     "output_type": "stream",
     "text": [
      "<class 'pandas.core.frame.DataFrame'>\n",
      "RangeIndex: 10000 entries, 0 to 9999\n",
      "Data columns (total 14 columns):\n",
      " #   Column           Non-Null Count  Dtype  \n",
      "---  ------           --------------  -----  \n",
      " 0   RowNumber        10000 non-null  int64  \n",
      " 1   CustomerId       10000 non-null  int64  \n",
      " 2   Surname          10000 non-null  object \n",
      " 3   CreditScore      10000 non-null  int64  \n",
      " 4   Geography        10000 non-null  object \n",
      " 5   Gender           10000 non-null  object \n",
      " 6   Age              10000 non-null  int64  \n",
      " 7   Tenure           10000 non-null  int64  \n",
      " 8   Balance          10000 non-null  float64\n",
      " 9   NumOfProducts    10000 non-null  int64  \n",
      " 10  HasCrCard        10000 non-null  int64  \n",
      " 11  IsActiveMember   10000 non-null  int64  \n",
      " 12  EstimatedSalary  10000 non-null  float64\n",
      " 13  Exited           10000 non-null  int64  \n",
      "dtypes: float64(2), int64(9), object(3)\n",
      "memory usage: 1.1+ MB\n"
     ]
    }
   ],
   "source": [
    "df1.info()"
   ]
  },
  {
   "cell_type": "code",
   "execution_count": 17,
   "metadata": {
    "colab": {
     "base_uri": "https://localhost:8080/"
    },
    "id": "6QVcEQwbzNC2",
    "outputId": "4a8da63e-17cc-4b0a-fce8-bd0b41e0bb09"
   },
   "outputs": [
    {
     "data": {
      "text/plain": [
       "France     5014\n",
       "Germany    2509\n",
       "Spain      2477\n",
       "Name: Geography, dtype: int64"
      ]
     },
     "execution_count": 17,
     "metadata": {
      "tags": []
     },
     "output_type": "execute_result"
    }
   ],
   "source": [
    "df1['Geography'].value_counts()"
   ]
  },
  {
   "cell_type": "markdown",
   "metadata": {
    "id": "zNA6oqsXyysM"
   },
   "source": [
    "Drop the columns which are unique for all users like IDs.\n",
    "\n",
    "RowNumber, CustomerId and Surname are unique.\n",
    "\n",
    "\n"
   ]
  },
  {
   "cell_type": "code",
   "execution_count": 19,
   "metadata": {
    "id": "keE-I3bdyn1G"
   },
   "outputs": [],
   "source": [
    "df1 = df1.drop(['RowNumber', 'CustomerId', 'Surname'], axis=1)"
   ]
  },
  {
   "cell_type": "code",
   "execution_count": 20,
   "metadata": {
    "colab": {
     "base_uri": "https://localhost:8080/"
    },
    "id": "mnp6aX0VzI8w",
    "outputId": "e40760d5-adf3-4250-911b-ecba8b8cecf1"
   },
   "outputs": [
    {
     "name": "stdout",
     "output_type": "stream",
     "text": [
      "<class 'pandas.core.frame.DataFrame'>\n",
      "RangeIndex: 10000 entries, 0 to 9999\n",
      "Data columns (total 11 columns):\n",
      " #   Column           Non-Null Count  Dtype  \n",
      "---  ------           --------------  -----  \n",
      " 0   CreditScore      10000 non-null  int64  \n",
      " 1   Geography        10000 non-null  object \n",
      " 2   Gender           10000 non-null  object \n",
      " 3   Age              10000 non-null  int64  \n",
      " 4   Tenure           10000 non-null  int64  \n",
      " 5   Balance          10000 non-null  float64\n",
      " 6   NumOfProducts    10000 non-null  int64  \n",
      " 7   HasCrCard        10000 non-null  int64  \n",
      " 8   IsActiveMember   10000 non-null  int64  \n",
      " 9   EstimatedSalary  10000 non-null  float64\n",
      " 10  Exited           10000 non-null  int64  \n",
      "dtypes: float64(2), int64(7), object(2)\n",
      "memory usage: 859.5+ KB\n"
     ]
    }
   ],
   "source": [
    "df1.info()"
   ]
  },
  {
   "cell_type": "markdown",
   "metadata": {
    "id": "H4PRv7dfztEL"
   },
   "source": [
    "The Feature and Target Sets"
   ]
  },
  {
   "cell_type": "code",
   "execution_count": 32,
   "metadata": {
    "id": "4LE4U8lTdQJq"
   },
   "outputs": [],
   "source": [
    "#Defining X and y, the feature and target sets\n",
    "\n",
    "X = df1.iloc[:,0:10].values # Credit Score through Estimated Salary\n",
    "y = df1.iloc[:,10].values # Exited"
   ]
  },
  {
   "cell_type": "code",
   "execution_count": 33,
   "metadata": {
    "colab": {
     "base_uri": "https://localhost:8080/"
    },
    "id": "B5b1x3VwCQnn",
    "outputId": "88ea6126-b75f-46df-b173-aefba64879d8"
   },
   "outputs": [
    {
     "data": {
      "text/plain": [
       "array([[619, 'France', 'Female', ..., 1, 1, 101348.88],\n",
       "       [608, 'Spain', 'Female', ..., 0, 1, 112542.58],\n",
       "       [502, 'France', 'Female', ..., 1, 0, 113931.57],\n",
       "       ...,\n",
       "       [709, 'France', 'Female', ..., 0, 1, 42085.58],\n",
       "       [772, 'Germany', 'Male', ..., 1, 0, 92888.52],\n",
       "       [792, 'France', 'Female', ..., 1, 0, 38190.78]], dtype=object)"
      ]
     },
     "execution_count": 33,
     "metadata": {
      "tags": []
     },
     "output_type": "execute_result"
    }
   ],
   "source": [
    "X"
   ]
  },
  {
   "cell_type": "code",
   "execution_count": 34,
   "metadata": {
    "colab": {
     "base_uri": "https://localhost:8080/"
    },
    "id": "Y6ZX8Y0kCSmy",
    "outputId": "0514d8f8-9523-4f30-f70b-2f4c9367525e"
   },
   "outputs": [
    {
     "data": {
      "text/plain": [
       "array([1, 0, 1, ..., 1, 1, 0])"
      ]
     },
     "execution_count": 34,
     "metadata": {
      "tags": []
     },
     "output_type": "execute_result"
    }
   ],
   "source": [
    "y"
   ]
  },
  {
   "cell_type": "code",
   "execution_count": 35,
   "metadata": {
    "colab": {
     "base_uri": "https://localhost:8080/"
    },
    "id": "U8_d9DYc3JFj",
    "outputId": "424a46e2-f8f8-49bf-be70-76102d751f3d"
   },
   "outputs": [
    {
     "name": "stdout",
     "output_type": "stream",
     "text": [
      "(10000, 10)\n",
      "(10000,)\n"
     ]
    }
   ],
   "source": [
    "print(X.shape)\n",
    "print(y.shape)"
   ]
  },
  {
   "cell_type": "markdown",
   "metadata": {
    "id": "nZZebNvP0EkZ"
   },
   "source": [
    "Geography: 3 categories: 'France', 'Spain' and 'Germany'\n",
    "\n",
    "Gender: 2 categories: 'Male','Female'\n",
    "\n",
    "Encoding categorical (string based) data. This will convert those strings into scalar values for analysis"
   ]
  },
  {
   "cell_type": "code",
   "execution_count": 36,
   "metadata": {
    "id": "AxI1g3zvsF4g"
   },
   "outputs": [],
   "source": [
    "from sklearn.preprocessing import LabelEncoder\n",
    "from sklearn.compose import ColumnTransformer\n",
    "\n",
    "labelencoder_X_1 = LabelEncoder()\n",
    "X[:, 1] = labelencoder_X_1.fit_transform(X[:, 1])\n",
    "labelencoder_X_2 = LabelEncoder()\n",
    "X[:, 2] = labelencoder_X_2.fit_transform(X[:, 2])\n",
    "\n",
    "# The Problem here is that we are treating the countries as one variable with ordinal values (0 < 1 < 2). \n",
    "# Therefore, one way to get rid of that problem is to split the countries into respective dimensions.\n",
    "# Using One-Hot Encoding with the help of ColumnTransformer from sklearn.compose\n",
    "\n",
    "transformer = ColumnTransformer(transformers=[(\"OneHot\", OneHotEncoder(), [1])], remainder='passthrough' )\n",
    "\n",
    "# Gender does not need this as it is binary\n",
    "\n",
    "X = transformer.fit_transform(X.tolist())\n",
    "X = X.astype('float64')\n"
   ]
  },
  {
   "cell_type": "code",
   "execution_count": 37,
   "metadata": {
    "colab": {
     "base_uri": "https://localhost:8080/"
    },
    "id": "aT1BeppH3E7s",
    "outputId": "805de17c-9886-41d8-fa8a-c1f4d84a9b0a"
   },
   "outputs": [
    {
     "data": {
      "text/plain": [
       "(10000, 12)"
      ]
     },
     "execution_count": 37,
     "metadata": {
      "tags": []
     },
     "output_type": "execute_result"
    }
   ],
   "source": [
    "X.shape"
   ]
  },
  {
   "cell_type": "code",
   "execution_count": 40,
   "metadata": {
    "colab": {
     "base_uri": "https://localhost:8080/"
    },
    "id": "4xZOUlFa3ZCV",
    "outputId": "f1de2fe8-e86e-40d7-852f-8490c136f712"
   },
   "outputs": [
    {
     "data": {
      "text/plain": [
       "array([[1.0000000e+00, 0.0000000e+00, 0.0000000e+00, ..., 1.0000000e+00,\n",
       "        1.0000000e+00, 1.0134888e+05],\n",
       "       [0.0000000e+00, 0.0000000e+00, 1.0000000e+00, ..., 0.0000000e+00,\n",
       "        1.0000000e+00, 1.1254258e+05],\n",
       "       [1.0000000e+00, 0.0000000e+00, 0.0000000e+00, ..., 1.0000000e+00,\n",
       "        0.0000000e+00, 1.1393157e+05],\n",
       "       ...,\n",
       "       [1.0000000e+00, 0.0000000e+00, 0.0000000e+00, ..., 0.0000000e+00,\n",
       "        1.0000000e+00, 4.2085580e+04],\n",
       "       [0.0000000e+00, 1.0000000e+00, 0.0000000e+00, ..., 1.0000000e+00,\n",
       "        0.0000000e+00, 9.2888520e+04],\n",
       "       [1.0000000e+00, 0.0000000e+00, 0.0000000e+00, ..., 1.0000000e+00,\n",
       "        0.0000000e+00, 3.8190780e+04]])"
      ]
     },
     "execution_count": 40,
     "metadata": {
      "tags": []
     },
     "output_type": "execute_result"
    }
   ],
   "source": [
    "X"
   ]
  },
  {
   "cell_type": "code",
   "execution_count": 41,
   "metadata": {
    "id": "2hXRJ8IA3tYi"
   },
   "outputs": [],
   "source": [
    "# A '0' on two countries means that the country has to be the one variable which wasn't included \n",
    "# This will save us from the problem of using too many dimensions\n",
    "X = X[:,1:] # Got rid of Spain as a dimension."
   ]
  },
  {
   "cell_type": "code",
   "execution_count": 43,
   "metadata": {
    "colab": {
     "base_uri": "https://localhost:8080/"
    },
    "id": "YnOWe2LR3wTR",
    "outputId": "c8d1075c-93fa-42f3-c6e8-7577f55d0a80"
   },
   "outputs": [
    {
     "data": {
      "text/plain": [
       "(10000, 11)"
      ]
     },
     "execution_count": 43,
     "metadata": {
      "tags": []
     },
     "output_type": "execute_result"
    }
   ],
   "source": [
    "X.shape"
   ]
  },
  {
   "cell_type": "code",
   "execution_count": 46,
   "metadata": {
    "id": "jJwvoT7GvRBT"
   },
   "outputs": [],
   "source": [
    "## Spliting the data\n",
    "from sklearn.model_selection import train_test_split\n",
    "X_train, X_test, y_train, y_test = train_test_split(X, y, test_size = 0.3,random_state = 2)"
   ]
  },
  {
   "cell_type": "code",
   "execution_count": 47,
   "metadata": {
    "id": "F-C_VabPHGpR"
   },
   "outputs": [],
   "source": [
    "# Feature Scaling \n",
    "from sklearn.preprocessing import StandardScaler\n",
    "sc = StandardScaler()\n",
    "X_train = sc.fit_transform(X_train)\n",
    "X_test = sc.transform(X_test)\n"
   ]
  },
  {
   "cell_type": "markdown",
   "metadata": {
    "id": "rFgMqQHO5qGf"
   },
   "source": [
    "Building the neural net"
   ]
  },
  {
   "cell_type": "code",
   "execution_count": 132,
   "metadata": {
    "id": "oCvsPZ8v4ihw"
   },
   "outputs": [],
   "source": [
    "# Initializing the ANN\n",
    "classifier = Sequential()"
   ]
  },
  {
   "cell_type": "code",
   "execution_count": 133,
   "metadata": {
    "id": "q4O0_LSW4I1z"
   },
   "outputs": [],
   "source": [
    "# The amount of nodes (dimensions) in hidden layer should be the average of input and output layers, in this case 6.\n",
    "# This adds the input layer (by specifying input dimension) AND the first hidden layer (units)\n",
    "classifier.add(Dense(activation = 'relu', input_dim = 11, units=6, kernel_initializer='uniform'))"
   ]
  },
  {
   "cell_type": "code",
   "execution_count": 134,
   "metadata": {
    "id": "gMGBn8y34JdN"
   },
   "outputs": [],
   "source": [
    "#Add 1st hidden layer\n",
    "classifier.add(Dense(6, activation='sigmoid', kernel_initializer='uniform'))"
   ]
  },
  {
   "cell_type": "code",
   "execution_count": 135,
   "metadata": {
    "id": "GIQn20j14LlR"
   },
   "outputs": [],
   "source": [
    "# Adding the output layer\n",
    "# Notice that we do not need to specify input dim. \n",
    "# we have an output of 1 node, which is the the desired dimensions of our output (stay with the bank or not)\n",
    "# We use the sigmoid because we want probability outcomes\n",
    "classifier.add(Dense(1, activation = 'sigmoid', kernel_initializer='uniform')) "
   ]
  },
  {
   "cell_type": "code",
   "execution_count": 136,
   "metadata": {
    "id": "kYMU1at44QZm"
   },
   "outputs": [],
   "source": [
    "# Create optimizer with default learning rate\n",
    "# Compile the model\n",
    "classifier.compile(optimizer='SGD', loss='mse', metrics=['accuracy'])"
   ]
  },
  {
   "cell_type": "code",
   "execution_count": 137,
   "metadata": {
    "colab": {
     "base_uri": "https://localhost:8080/"
    },
    "id": "0RoC8aqU4SL6",
    "outputId": "5f5fa95f-2f74-4bfb-9b09-49190a3d3a7f"
   },
   "outputs": [
    {
     "name": "stdout",
     "output_type": "stream",
     "text": [
      "Model: \"sequential_13\"\n",
      "_________________________________________________________________\n",
      "Layer (type)                 Output Shape              Param #   \n",
      "=================================================================\n",
      "dense_44 (Dense)             (None, 6)                 72        \n",
      "_________________________________________________________________\n",
      "dense_45 (Dense)             (None, 6)                 42        \n",
      "_________________________________________________________________\n",
      "dense_46 (Dense)             (None, 1)                 7         \n",
      "=================================================================\n",
      "Total params: 121\n",
      "Trainable params: 121\n",
      "Non-trainable params: 0\n",
      "_________________________________________________________________\n"
     ]
    }
   ],
   "source": [
    "classifier.summary()"
   ]
  },
  {
   "cell_type": "code",
   "execution_count": 138,
   "metadata": {
    "colab": {
     "base_uri": "https://localhost:8080/"
    },
    "id": "rhyph0lw6W9x",
    "outputId": "6b0984ab-a451-4eb3-9076-a21afe825f93"
   },
   "outputs": [
    {
     "name": "stdout",
     "output_type": "stream",
     "text": [
      "Train on 7000 samples\n",
      "Epoch 1/100\n",
      "7000/7000 [==============================] - 0s 38us/sample - loss: 0.2111 - accuracy: 0.7926\n",
      "Epoch 2/100\n",
      "7000/7000 [==============================] - 0s 33us/sample - loss: 0.1786 - accuracy: 0.7926\n",
      "Epoch 3/100\n",
      "7000/7000 [==============================] - 0s 32us/sample - loss: 0.1697 - accuracy: 0.7926\n",
      "Epoch 4/100\n",
      "7000/7000 [==============================] - 0s 35us/sample - loss: 0.1666 - accuracy: 0.7926\n",
      "Epoch 5/100\n",
      "7000/7000 [==============================] - 0s 32us/sample - loss: 0.1654 - accuracy: 0.7926\n",
      "Epoch 6/100\n",
      "7000/7000 [==============================] - 0s 31us/sample - loss: 0.1649 - accuracy: 0.7926\n",
      "Epoch 7/100\n",
      "7000/7000 [==============================] - 0s 32us/sample - loss: 0.1647 - accuracy: 0.7926\n",
      "Epoch 8/100\n",
      "7000/7000 [==============================] - 0s 32us/sample - loss: 0.1645 - accuracy: 0.7926\n",
      "Epoch 9/100\n",
      "7000/7000 [==============================] - 0s 29us/sample - loss: 0.1645 - accuracy: 0.7926\n",
      "Epoch 10/100\n",
      "7000/7000 [==============================] - 0s 29us/sample - loss: 0.1644 - accuracy: 0.7926\n",
      "Epoch 11/100\n",
      "7000/7000 [==============================] - 0s 32us/sample - loss: 0.1644 - accuracy: 0.7926\n",
      "Epoch 12/100\n",
      "7000/7000 [==============================] - 0s 30us/sample - loss: 0.1644 - accuracy: 0.7926\n",
      "Epoch 13/100\n",
      "7000/7000 [==============================] - 0s 29us/sample - loss: 0.1644 - accuracy: 0.7926\n",
      "Epoch 14/100\n",
      "7000/7000 [==============================] - 0s 32us/sample - loss: 0.1644 - accuracy: 0.7926\n",
      "Epoch 15/100\n",
      "7000/7000 [==============================] - 0s 30us/sample - loss: 0.1644 - accuracy: 0.7926\n",
      "Epoch 16/100\n",
      "7000/7000 [==============================] - 0s 32us/sample - loss: 0.1644 - accuracy: 0.7926\n",
      "Epoch 17/100\n",
      "7000/7000 [==============================] - 0s 32us/sample - loss: 0.1644 - accuracy: 0.7926\n",
      "Epoch 18/100\n",
      "7000/7000 [==============================] - 0s 31us/sample - loss: 0.1644 - accuracy: 0.7926\n",
      "Epoch 19/100\n",
      "7000/7000 [==============================] - 0s 31us/sample - loss: 0.1644 - accuracy: 0.7926\n",
      "Epoch 20/100\n",
      "7000/7000 [==============================] - 0s 34us/sample - loss: 0.1644 - accuracy: 0.7926\n",
      "Epoch 21/100\n",
      "7000/7000 [==============================] - 0s 29us/sample - loss: 0.1644 - accuracy: 0.7926\n",
      "Epoch 22/100\n",
      "7000/7000 [==============================] - 0s 32us/sample - loss: 0.1644 - accuracy: 0.7926\n",
      "Epoch 23/100\n",
      "7000/7000 [==============================] - 0s 29us/sample - loss: 0.1644 - accuracy: 0.7926\n",
      "Epoch 24/100\n",
      "7000/7000 [==============================] - 0s 30us/sample - loss: 0.1644 - accuracy: 0.7926\n",
      "Epoch 25/100\n",
      "7000/7000 [==============================] - 0s 33us/sample - loss: 0.1644 - accuracy: 0.7926\n",
      "Epoch 26/100\n",
      "7000/7000 [==============================] - 0s 29us/sample - loss: 0.1644 - accuracy: 0.7926\n",
      "Epoch 27/100\n",
      "7000/7000 [==============================] - 0s 29us/sample - loss: 0.1644 - accuracy: 0.7926\n",
      "Epoch 28/100\n",
      "7000/7000 [==============================] - 0s 31us/sample - loss: 0.1644 - accuracy: 0.7926\n",
      "Epoch 29/100\n",
      "7000/7000 [==============================] - 0s 29us/sample - loss: 0.1644 - accuracy: 0.7926\n",
      "Epoch 30/100\n",
      "7000/7000 [==============================] - 0s 33us/sample - loss: 0.1644 - accuracy: 0.7926\n",
      "Epoch 31/100\n",
      "7000/7000 [==============================] - 0s 28us/sample - loss: 0.1644 - accuracy: 0.7926\n",
      "Epoch 32/100\n",
      "7000/7000 [==============================] - 0s 30us/sample - loss: 0.1644 - accuracy: 0.7926\n",
      "Epoch 33/100\n",
      "7000/7000 [==============================] - 0s 32us/sample - loss: 0.1644 - accuracy: 0.7926\n",
      "Epoch 34/100\n",
      "7000/7000 [==============================] - 0s 31us/sample - loss: 0.1644 - accuracy: 0.7926\n",
      "Epoch 35/100\n",
      "7000/7000 [==============================] - 0s 29us/sample - loss: 0.1644 - accuracy: 0.7926\n",
      "Epoch 36/100\n",
      "7000/7000 [==============================] - 0s 32us/sample - loss: 0.1644 - accuracy: 0.7926\n",
      "Epoch 37/100\n",
      "7000/7000 [==============================] - 0s 30us/sample - loss: 0.1644 - accuracy: 0.7926\n",
      "Epoch 38/100\n",
      "7000/7000 [==============================] - 0s 31us/sample - loss: 0.1644 - accuracy: 0.7926\n",
      "Epoch 39/100\n",
      "7000/7000 [==============================] - 0s 35us/sample - loss: 0.1644 - accuracy: 0.7926\n",
      "Epoch 40/100\n",
      "7000/7000 [==============================] - 0s 31us/sample - loss: 0.1644 - accuracy: 0.7926\n",
      "Epoch 41/100\n",
      "7000/7000 [==============================] - 0s 30us/sample - loss: 0.1644 - accuracy: 0.7926\n",
      "Epoch 42/100\n",
      "7000/7000 [==============================] - 0s 30us/sample - loss: 0.1644 - accuracy: 0.7926\n",
      "Epoch 43/100\n",
      "7000/7000 [==============================] - 0s 28us/sample - loss: 0.1644 - accuracy: 0.7926\n",
      "Epoch 44/100\n",
      "7000/7000 [==============================] - 0s 32us/sample - loss: 0.1644 - accuracy: 0.7926\n",
      "Epoch 45/100\n",
      "7000/7000 [==============================] - 0s 29us/sample - loss: 0.1644 - accuracy: 0.7926\n",
      "Epoch 46/100\n",
      "7000/7000 [==============================] - 0s 33us/sample - loss: 0.1644 - accuracy: 0.7926\n",
      "Epoch 47/100\n",
      "7000/7000 [==============================] - 0s 32us/sample - loss: 0.1644 - accuracy: 0.7926\n",
      "Epoch 48/100\n",
      "7000/7000 [==============================] - 0s 31us/sample - loss: 0.1644 - accuracy: 0.7926\n",
      "Epoch 49/100\n",
      "7000/7000 [==============================] - 0s 28us/sample - loss: 0.1644 - accuracy: 0.7926\n",
      "Epoch 50/100\n",
      "7000/7000 [==============================] - 0s 31us/sample - loss: 0.1644 - accuracy: 0.7926\n",
      "Epoch 51/100\n",
      "7000/7000 [==============================] - 0s 31us/sample - loss: 0.1644 - accuracy: 0.7926\n",
      "Epoch 52/100\n",
      "7000/7000 [==============================] - 0s 29us/sample - loss: 0.1644 - accuracy: 0.7926\n",
      "Epoch 53/100\n",
      "7000/7000 [==============================] - 0s 33us/sample - loss: 0.1644 - accuracy: 0.7926\n",
      "Epoch 54/100\n",
      "7000/7000 [==============================] - 0s 30us/sample - loss: 0.1644 - accuracy: 0.7926\n",
      "Epoch 55/100\n",
      "7000/7000 [==============================] - 0s 29us/sample - loss: 0.1644 - accuracy: 0.7926\n",
      "Epoch 56/100\n",
      "7000/7000 [==============================] - 0s 28us/sample - loss: 0.1644 - accuracy: 0.7926\n",
      "Epoch 57/100\n",
      "7000/7000 [==============================] - 0s 30us/sample - loss: 0.1644 - accuracy: 0.7926\n",
      "Epoch 58/100\n",
      "7000/7000 [==============================] - 0s 31us/sample - loss: 0.1644 - accuracy: 0.7926\n",
      "Epoch 59/100\n",
      "7000/7000 [==============================] - 0s 31us/sample - loss: 0.1644 - accuracy: 0.7926\n",
      "Epoch 60/100\n",
      "7000/7000 [==============================] - 0s 32us/sample - loss: 0.1644 - accuracy: 0.7926\n",
      "Epoch 61/100\n",
      "7000/7000 [==============================] - 0s 32us/sample - loss: 0.1644 - accuracy: 0.7926\n",
      "Epoch 62/100\n",
      "7000/7000 [==============================] - 0s 31us/sample - loss: 0.1644 - accuracy: 0.7926\n",
      "Epoch 63/100\n",
      "7000/7000 [==============================] - 0s 29us/sample - loss: 0.1644 - accuracy: 0.7926\n",
      "Epoch 64/100\n",
      "7000/7000 [==============================] - 0s 33us/sample - loss: 0.1644 - accuracy: 0.7926\n",
      "Epoch 65/100\n",
      "7000/7000 [==============================] - 0s 30us/sample - loss: 0.1644 - accuracy: 0.7926\n",
      "Epoch 66/100\n",
      "7000/7000 [==============================] - 0s 32us/sample - loss: 0.1644 - accuracy: 0.7926\n",
      "Epoch 67/100\n",
      "7000/7000 [==============================] - 0s 32us/sample - loss: 0.1644 - accuracy: 0.7926\n",
      "Epoch 68/100\n",
      "7000/7000 [==============================] - 0s 32us/sample - loss: 0.1644 - accuracy: 0.7926\n",
      "Epoch 69/100\n",
      "7000/7000 [==============================] - 0s 29us/sample - loss: 0.1644 - accuracy: 0.7926\n",
      "Epoch 70/100\n",
      "7000/7000 [==============================] - 0s 33us/sample - loss: 0.1644 - accuracy: 0.7926\n",
      "Epoch 71/100\n",
      "7000/7000 [==============================] - 0s 32us/sample - loss: 0.1644 - accuracy: 0.7926\n",
      "Epoch 72/100\n",
      "7000/7000 [==============================] - 0s 28us/sample - loss: 0.1644 - accuracy: 0.7926\n",
      "Epoch 73/100\n",
      "7000/7000 [==============================] - 0s 32us/sample - loss: 0.1644 - accuracy: 0.7926\n",
      "Epoch 74/100\n",
      "7000/7000 [==============================] - 0s 29us/sample - loss: 0.1644 - accuracy: 0.7926\n",
      "Epoch 75/100\n",
      "7000/7000 [==============================] - 0s 32us/sample - loss: 0.1644 - accuracy: 0.7926\n",
      "Epoch 76/100\n",
      "7000/7000 [==============================] - 0s 33us/sample - loss: 0.1644 - accuracy: 0.7926\n",
      "Epoch 77/100\n",
      "7000/7000 [==============================] - 0s 33us/sample - loss: 0.1644 - accuracy: 0.7926\n",
      "Epoch 78/100\n",
      "7000/7000 [==============================] - 0s 31us/sample - loss: 0.1644 - accuracy: 0.7926\n",
      "Epoch 79/100\n",
      "7000/7000 [==============================] - 0s 32us/sample - loss: 0.1644 - accuracy: 0.7926\n",
      "Epoch 80/100\n",
      "7000/7000 [==============================] - 0s 32us/sample - loss: 0.1644 - accuracy: 0.7926\n",
      "Epoch 81/100\n",
      "7000/7000 [==============================] - 0s 33us/sample - loss: 0.1644 - accuracy: 0.7926\n",
      "Epoch 82/100\n",
      "7000/7000 [==============================] - 0s 32us/sample - loss: 0.1644 - accuracy: 0.7926\n",
      "Epoch 83/100\n",
      "7000/7000 [==============================] - 0s 29us/sample - loss: 0.1644 - accuracy: 0.7926\n",
      "Epoch 84/100\n",
      "7000/7000 [==============================] - 0s 33us/sample - loss: 0.1644 - accuracy: 0.7926\n",
      "Epoch 85/100\n",
      "7000/7000 [==============================] - 0s 32us/sample - loss: 0.1644 - accuracy: 0.7926\n",
      "Epoch 86/100\n",
      "7000/7000 [==============================] - 0s 32us/sample - loss: 0.1644 - accuracy: 0.7926\n",
      "Epoch 87/100\n",
      "7000/7000 [==============================] - 0s 29us/sample - loss: 0.1644 - accuracy: 0.7926\n",
      "Epoch 88/100\n",
      "7000/7000 [==============================] - 0s 31us/sample - loss: 0.1644 - accuracy: 0.7926\n",
      "Epoch 89/100\n",
      "7000/7000 [==============================] - 0s 32us/sample - loss: 0.1644 - accuracy: 0.7926\n",
      "Epoch 90/100\n",
      "7000/7000 [==============================] - 0s 31us/sample - loss: 0.1644 - accuracy: 0.7926\n",
      "Epoch 91/100\n",
      "7000/7000 [==============================] - 0s 31us/sample - loss: 0.1644 - accuracy: 0.7926\n",
      "Epoch 92/100\n",
      "7000/7000 [==============================] - 0s 32us/sample - loss: 0.1644 - accuracy: 0.7926\n",
      "Epoch 93/100\n",
      "7000/7000 [==============================] - 0s 32us/sample - loss: 0.1644 - accuracy: 0.7926\n",
      "Epoch 94/100\n",
      "7000/7000 [==============================] - 0s 33us/sample - loss: 0.1644 - accuracy: 0.7926\n",
      "Epoch 95/100\n",
      "7000/7000 [==============================] - 0s 32us/sample - loss: 0.1644 - accuracy: 0.7926\n",
      "Epoch 96/100\n",
      "7000/7000 [==============================] - 0s 30us/sample - loss: 0.1644 - accuracy: 0.7926\n",
      "Epoch 97/100\n",
      "7000/7000 [==============================] - 0s 31us/sample - loss: 0.1644 - accuracy: 0.7926\n",
      "Epoch 98/100\n",
      "7000/7000 [==============================] - 0s 32us/sample - loss: 0.1644 - accuracy: 0.7926\n",
      "Epoch 99/100\n",
      "7000/7000 [==============================] - 0s 32us/sample - loss: 0.1644 - accuracy: 0.7926\n",
      "Epoch 100/100\n",
      "7000/7000 [==============================] - 0s 32us/sample - loss: 0.1644 - accuracy: 0.7926\n"
     ]
    },
    {
     "data": {
      "text/plain": [
       "<tensorflow.python.keras.callbacks.History at 0x7f21b630cd90>"
      ]
     },
     "execution_count": 138,
     "metadata": {
      "tags": []
     },
     "output_type": "execute_result"
    }
   ],
   "source": [
    "classifier.fit(X_train, y_train, batch_size = 32, epochs = 100)"
   ]
  },
  {
   "cell_type": "code",
   "execution_count": 139,
   "metadata": {
    "colab": {
     "base_uri": "https://localhost:8080/"
    },
    "id": "YAgeTrsjASez",
    "outputId": "362b57cb-f7c7-4ca1-f827-3318787b46c4"
   },
   "outputs": [
    {
     "name": "stdout",
     "output_type": "stream",
     "text": [
      "[[False]\n",
      " [False]\n",
      " [False]\n",
      " ...\n",
      " [False]\n",
      " [False]\n",
      " [False]]\n"
     ]
    },
    {
     "name": "stderr",
     "output_type": "stream",
     "text": [
      "/usr/local/lib/python3.7/dist-packages/tensorflow/python/keras/engine/training.py:2325: UserWarning: `Model.state_updates` will be removed in a future version. This property should not be used in TensorFlow 2.0, as `updates` are applied automatically.\n",
      "  warnings.warn('`Model.state_updates` will be removed in a future version. '\n"
     ]
    }
   ],
   "source": [
    "# Predicting the Test set results\n",
    "y_pred = classifier.predict(X_test)\n",
    "y_pred = (y_pred > 0.5)\n",
    "print(y_pred)"
   ]
  },
  {
   "cell_type": "code",
   "execution_count": 140,
   "metadata": {
    "colab": {
     "base_uri": "https://localhost:8080/"
    },
    "id": "MHB4JoiqAScq",
    "outputId": "68fac61c-825e-4cb1-8245-db144c64f7de"
   },
   "outputs": [
    {
     "name": "stdout",
     "output_type": "stream",
     "text": [
      "[[2415    0]\n",
      " [ 585    0]]\n",
      "80.5 % of testing data was classified correctly\n"
     ]
    }
   ],
   "source": [
    "cm1 = confusion_matrix(y_test, y_pred)\n",
    "print(cm1)\n",
    "accuracy_model1 = ((cm1[0][0]+cm1[1][1])*100)/(cm1[0][0]+cm1[1][1]+cm1[0][1]+cm1[1][0])\n",
    "print(accuracy_model1, '% of testing data was classified correctly')"
   ]
  },
  {
   "cell_type": "markdown",
   "metadata": {
    "id": "yOzFHZfUA6y4"
   },
   "source": [
    "Tuning the Neural Net "
   ]
  },
  {
   "cell_type": "code",
   "execution_count": 141,
   "metadata": {
    "id": "th_YVjsp9vX2"
   },
   "outputs": [],
   "source": [
    "# Initializing the ANN with 1 Hidden Layer\n",
    "classifier2 = Sequential()\n",
    "# This adds the input layer (by specifying input dimension) AND the first hidden layer (units)\n",
    "classifier2.add(Dense(activation = 'relu', input_dim = 11, units=6, kernel_initializer='uniform'))"
   ]
  },
  {
   "cell_type": "code",
   "execution_count": 142,
   "metadata": {
    "id": "RIS-mCQ69wND"
   },
   "outputs": [],
   "source": [
    "# Adding the hidden layer\n",
    "# Notice that we do not need to specify input dim. \n",
    "classifier2.add(Dense(activation = 'relu', units=6, kernel_initializer='uniform')) "
   ]
  },
  {
   "cell_type": "code",
   "execution_count": 143,
   "metadata": {
    "id": "gWOhEaDJ9yaH"
   },
   "outputs": [],
   "source": [
    "# Adding the output layer\n",
    "# Notice that we do not need to specify input dim. \n",
    "# we have an output of 1 node, which is the the desired dimensions of our output (stay with the bank or not)\n",
    "# We use the sigmoid because we want probability outcomes\n",
    "classifier2.add(Dense(activation = 'sigmoid', units=1, kernel_initializer='uniform')) "
   ]
  },
  {
   "cell_type": "code",
   "execution_count": 144,
   "metadata": {
    "id": "VcH9yjSN91kL"
   },
   "outputs": [],
   "source": [
    "classifier2.compile(optimizer='adam', loss = 'binary_crossentropy', metrics=['accuracy'])"
   ]
  },
  {
   "cell_type": "code",
   "execution_count": 145,
   "metadata": {
    "colab": {
     "base_uri": "https://localhost:8080/"
    },
    "id": "vTRSIMfP948i",
    "outputId": "b4ed471b-3f72-428c-d50d-1e40de53f433"
   },
   "outputs": [
    {
     "name": "stdout",
     "output_type": "stream",
     "text": [
      "Train on 7000 samples, validate on 3000 samples\n",
      "Epoch 1/100\n",
      "6112/7000 [=========================>....] - ETA: 0s - loss: 0.5995 - accuracy: 0.7899"
     ]
    },
    {
     "name": "stderr",
     "output_type": "stream",
     "text": [
      "/usr/local/lib/python3.7/dist-packages/tensorflow/python/keras/engine/training.py:2325: UserWarning: `Model.state_updates` will be removed in a future version. This property should not be used in TensorFlow 2.0, as `updates` are applied automatically.\n",
      "  warnings.warn('`Model.state_updates` will be removed in a future version. '\n"
     ]
    },
    {
     "name": "stdout",
     "output_type": "stream",
     "text": [
      "7000/7000 [==============================] - 1s 74us/sample - loss: 0.5805 - accuracy: 0.7920 - val_loss: 0.4470 - val_accuracy: 0.8050\n",
      "Epoch 2/100\n",
      "7000/7000 [==============================] - 0s 47us/sample - loss: 0.4418 - accuracy: 0.7926 - val_loss: 0.4326 - val_accuracy: 0.8050\n",
      "Epoch 3/100\n",
      "7000/7000 [==============================] - 0s 43us/sample - loss: 0.4310 - accuracy: 0.7926 - val_loss: 0.4289 - val_accuracy: 0.8050\n",
      "Epoch 4/100\n",
      "7000/7000 [==============================] - 0s 49us/sample - loss: 0.4256 - accuracy: 0.7926 - val_loss: 0.4257 - val_accuracy: 0.8050\n",
      "Epoch 5/100\n",
      "7000/7000 [==============================] - 0s 46us/sample - loss: 0.4212 - accuracy: 0.7930 - val_loss: 0.4227 - val_accuracy: 0.8213\n",
      "Epoch 6/100\n",
      "7000/7000 [==============================] - 0s 52us/sample - loss: 0.4166 - accuracy: 0.8251 - val_loss: 0.4205 - val_accuracy: 0.8257\n",
      "Epoch 7/100\n",
      "7000/7000 [==============================] - 0s 47us/sample - loss: 0.4127 - accuracy: 0.8294 - val_loss: 0.4171 - val_accuracy: 0.8303\n",
      "Epoch 8/100\n",
      "7000/7000 [==============================] - 0s 45us/sample - loss: 0.4091 - accuracy: 0.8327 - val_loss: 0.4152 - val_accuracy: 0.8327\n",
      "Epoch 9/100\n",
      "7000/7000 [==============================] - 0s 43us/sample - loss: 0.4066 - accuracy: 0.8346 - val_loss: 0.4127 - val_accuracy: 0.8327\n",
      "Epoch 10/100\n",
      "7000/7000 [==============================] - 0s 44us/sample - loss: 0.4043 - accuracy: 0.8347 - val_loss: 0.4116 - val_accuracy: 0.8327\n",
      "Epoch 11/100\n",
      "7000/7000 [==============================] - 0s 45us/sample - loss: 0.4020 - accuracy: 0.8370 - val_loss: 0.4102 - val_accuracy: 0.8330\n",
      "Epoch 12/100\n",
      "7000/7000 [==============================] - 0s 46us/sample - loss: 0.4002 - accuracy: 0.8361 - val_loss: 0.4099 - val_accuracy: 0.8323\n",
      "Epoch 13/100\n",
      "7000/7000 [==============================] - 0s 45us/sample - loss: 0.3990 - accuracy: 0.8380 - val_loss: 0.4081 - val_accuracy: 0.8327\n",
      "Epoch 14/100\n",
      "7000/7000 [==============================] - 0s 46us/sample - loss: 0.3979 - accuracy: 0.8381 - val_loss: 0.4071 - val_accuracy: 0.8353\n",
      "Epoch 15/100\n",
      "7000/7000 [==============================] - 0s 45us/sample - loss: 0.3971 - accuracy: 0.8377 - val_loss: 0.4067 - val_accuracy: 0.8343\n",
      "Epoch 16/100\n",
      "7000/7000 [==============================] - 0s 45us/sample - loss: 0.3961 - accuracy: 0.8389 - val_loss: 0.4057 - val_accuracy: 0.8343\n",
      "Epoch 17/100\n",
      "7000/7000 [==============================] - 0s 47us/sample - loss: 0.3956 - accuracy: 0.8374 - val_loss: 0.4059 - val_accuracy: 0.8343\n",
      "Epoch 18/100\n",
      "7000/7000 [==============================] - 0s 45us/sample - loss: 0.3950 - accuracy: 0.8386 - val_loss: 0.4055 - val_accuracy: 0.8363\n",
      "Epoch 19/100\n",
      "7000/7000 [==============================] - 0s 45us/sample - loss: 0.3943 - accuracy: 0.8371 - val_loss: 0.4055 - val_accuracy: 0.8357\n",
      "Epoch 20/100\n",
      "7000/7000 [==============================] - 0s 46us/sample - loss: 0.3937 - accuracy: 0.8370 - val_loss: 0.4058 - val_accuracy: 0.8360\n",
      "Epoch 21/100\n",
      "7000/7000 [==============================] - 0s 45us/sample - loss: 0.3936 - accuracy: 0.8389 - val_loss: 0.4044 - val_accuracy: 0.8363\n",
      "Epoch 22/100\n",
      "7000/7000 [==============================] - 0s 45us/sample - loss: 0.3935 - accuracy: 0.8389 - val_loss: 0.4046 - val_accuracy: 0.8383\n",
      "Epoch 23/100\n",
      "7000/7000 [==============================] - 0s 45us/sample - loss: 0.3926 - accuracy: 0.8391 - val_loss: 0.4050 - val_accuracy: 0.8357\n",
      "Epoch 24/100\n",
      "7000/7000 [==============================] - 0s 46us/sample - loss: 0.3926 - accuracy: 0.8399 - val_loss: 0.4042 - val_accuracy: 0.8363\n",
      "Epoch 25/100\n",
      "7000/7000 [==============================] - 0s 44us/sample - loss: 0.3921 - accuracy: 0.8377 - val_loss: 0.4045 - val_accuracy: 0.8377\n",
      "Epoch 26/100\n",
      "7000/7000 [==============================] - 0s 44us/sample - loss: 0.3918 - accuracy: 0.8376 - val_loss: 0.4052 - val_accuracy: 0.8357\n",
      "Epoch 27/100\n",
      "7000/7000 [==============================] - 0s 45us/sample - loss: 0.3915 - accuracy: 0.8380 - val_loss: 0.4041 - val_accuracy: 0.8373\n",
      "Epoch 28/100\n",
      "7000/7000 [==============================] - 0s 43us/sample - loss: 0.3918 - accuracy: 0.8393 - val_loss: 0.4042 - val_accuracy: 0.8380\n",
      "Epoch 29/100\n",
      "7000/7000 [==============================] - 0s 50us/sample - loss: 0.3914 - accuracy: 0.8394 - val_loss: 0.4035 - val_accuracy: 0.8387\n",
      "Epoch 30/100\n",
      "7000/7000 [==============================] - 0s 48us/sample - loss: 0.3913 - accuracy: 0.8396 - val_loss: 0.4043 - val_accuracy: 0.8373\n",
      "Epoch 31/100\n",
      "7000/7000 [==============================] - 0s 50us/sample - loss: 0.3911 - accuracy: 0.8403 - val_loss: 0.4046 - val_accuracy: 0.8370\n",
      "Epoch 32/100\n",
      "7000/7000 [==============================] - 0s 48us/sample - loss: 0.3909 - accuracy: 0.8386 - val_loss: 0.4048 - val_accuracy: 0.8370\n",
      "Epoch 33/100\n",
      "7000/7000 [==============================] - 0s 46us/sample - loss: 0.3911 - accuracy: 0.8391 - val_loss: 0.4049 - val_accuracy: 0.8377\n",
      "Epoch 34/100\n",
      "7000/7000 [==============================] - 0s 44us/sample - loss: 0.3904 - accuracy: 0.8401 - val_loss: 0.4044 - val_accuracy: 0.8373\n",
      "Epoch 35/100\n",
      "7000/7000 [==============================] - 0s 49us/sample - loss: 0.3906 - accuracy: 0.8400 - val_loss: 0.4045 - val_accuracy: 0.8387\n",
      "Epoch 36/100\n",
      "7000/7000 [==============================] - 0s 51us/sample - loss: 0.3906 - accuracy: 0.8406 - val_loss: 0.4037 - val_accuracy: 0.8373\n",
      "Epoch 37/100\n",
      "7000/7000 [==============================] - 0s 45us/sample - loss: 0.3906 - accuracy: 0.8401 - val_loss: 0.4034 - val_accuracy: 0.8390\n",
      "Epoch 38/100\n",
      "7000/7000 [==============================] - 0s 45us/sample - loss: 0.3904 - accuracy: 0.8404 - val_loss: 0.4038 - val_accuracy: 0.8370\n",
      "Epoch 39/100\n",
      "7000/7000 [==============================] - 0s 48us/sample - loss: 0.3905 - accuracy: 0.8419 - val_loss: 0.4039 - val_accuracy: 0.8363\n",
      "Epoch 40/100\n",
      "7000/7000 [==============================] - 0s 48us/sample - loss: 0.3900 - accuracy: 0.8407 - val_loss: 0.4043 - val_accuracy: 0.8383\n",
      "Epoch 41/100\n",
      "7000/7000 [==============================] - 0s 46us/sample - loss: 0.3900 - accuracy: 0.8409 - val_loss: 0.4045 - val_accuracy: 0.8383\n",
      "Epoch 42/100\n",
      "7000/7000 [==============================] - 0s 45us/sample - loss: 0.3900 - accuracy: 0.8416 - val_loss: 0.4038 - val_accuracy: 0.8377\n",
      "Epoch 43/100\n",
      "7000/7000 [==============================] - 0s 43us/sample - loss: 0.3899 - accuracy: 0.8419 - val_loss: 0.4035 - val_accuracy: 0.8393\n",
      "Epoch 44/100\n",
      "7000/7000 [==============================] - 0s 45us/sample - loss: 0.3901 - accuracy: 0.8401 - val_loss: 0.4038 - val_accuracy: 0.8373\n",
      "Epoch 45/100\n",
      "7000/7000 [==============================] - 0s 47us/sample - loss: 0.3898 - accuracy: 0.8404 - val_loss: 0.4030 - val_accuracy: 0.8383\n",
      "Epoch 46/100\n",
      "7000/7000 [==============================] - 0s 46us/sample - loss: 0.3898 - accuracy: 0.8401 - val_loss: 0.4046 - val_accuracy: 0.8357\n",
      "Epoch 47/100\n",
      "7000/7000 [==============================] - 0s 45us/sample - loss: 0.3892 - accuracy: 0.8403 - val_loss: 0.4057 - val_accuracy: 0.8337\n",
      "Epoch 48/100\n",
      "7000/7000 [==============================] - 0s 46us/sample - loss: 0.3896 - accuracy: 0.8409 - val_loss: 0.4054 - val_accuracy: 0.8357\n",
      "Epoch 49/100\n",
      "7000/7000 [==============================] - 0s 44us/sample - loss: 0.3894 - accuracy: 0.8407 - val_loss: 0.4040 - val_accuracy: 0.8380\n",
      "Epoch 50/100\n",
      "7000/7000 [==============================] - 0s 49us/sample - loss: 0.3893 - accuracy: 0.8413 - val_loss: 0.4037 - val_accuracy: 0.8367\n",
      "Epoch 51/100\n",
      "7000/7000 [==============================] - 0s 56us/sample - loss: 0.3888 - accuracy: 0.8421 - val_loss: 0.4033 - val_accuracy: 0.8387\n",
      "Epoch 52/100\n",
      "7000/7000 [==============================] - 0s 45us/sample - loss: 0.3890 - accuracy: 0.8414 - val_loss: 0.4033 - val_accuracy: 0.8383\n",
      "Epoch 53/100\n",
      "7000/7000 [==============================] - 0s 45us/sample - loss: 0.3888 - accuracy: 0.8416 - val_loss: 0.4044 - val_accuracy: 0.8370\n",
      "Epoch 54/100\n",
      "7000/7000 [==============================] - 0s 48us/sample - loss: 0.3890 - accuracy: 0.8407 - val_loss: 0.4039 - val_accuracy: 0.8370\n",
      "Epoch 55/100\n",
      "7000/7000 [==============================] - 0s 44us/sample - loss: 0.3892 - accuracy: 0.8384 - val_loss: 0.4038 - val_accuracy: 0.8367\n",
      "Epoch 56/100\n",
      "7000/7000 [==============================] - 0s 46us/sample - loss: 0.3888 - accuracy: 0.8396 - val_loss: 0.4037 - val_accuracy: 0.8353\n",
      "Epoch 57/100\n",
      "7000/7000 [==============================] - 0s 44us/sample - loss: 0.3887 - accuracy: 0.8410 - val_loss: 0.4044 - val_accuracy: 0.8367\n",
      "Epoch 58/100\n",
      "7000/7000 [==============================] - 0s 46us/sample - loss: 0.3886 - accuracy: 0.8396 - val_loss: 0.4039 - val_accuracy: 0.8387\n",
      "Epoch 59/100\n",
      "7000/7000 [==============================] - 0s 48us/sample - loss: 0.3883 - accuracy: 0.8411 - val_loss: 0.4039 - val_accuracy: 0.8370\n",
      "Epoch 60/100\n",
      "7000/7000 [==============================] - 0s 46us/sample - loss: 0.3885 - accuracy: 0.8403 - val_loss: 0.4034 - val_accuracy: 0.8370\n",
      "Epoch 61/100\n",
      "7000/7000 [==============================] - 0s 44us/sample - loss: 0.3887 - accuracy: 0.8411 - val_loss: 0.4046 - val_accuracy: 0.8370\n",
      "Epoch 62/100\n",
      "7000/7000 [==============================] - 0s 42us/sample - loss: 0.3887 - accuracy: 0.8410 - val_loss: 0.4045 - val_accuracy: 0.8380\n",
      "Epoch 63/100\n",
      "7000/7000 [==============================] - 0s 46us/sample - loss: 0.3876 - accuracy: 0.8414 - val_loss: 0.4036 - val_accuracy: 0.8407\n",
      "Epoch 64/100\n",
      "7000/7000 [==============================] - 0s 52us/sample - loss: 0.3888 - accuracy: 0.8401 - val_loss: 0.4038 - val_accuracy: 0.8370\n",
      "Epoch 65/100\n",
      "7000/7000 [==============================] - 0s 47us/sample - loss: 0.3883 - accuracy: 0.8413 - val_loss: 0.4039 - val_accuracy: 0.8370\n",
      "Epoch 66/100\n",
      "7000/7000 [==============================] - 0s 44us/sample - loss: 0.3882 - accuracy: 0.8414 - val_loss: 0.4035 - val_accuracy: 0.8373\n",
      "Epoch 67/100\n",
      "7000/7000 [==============================] - 0s 47us/sample - loss: 0.3883 - accuracy: 0.8401 - val_loss: 0.4048 - val_accuracy: 0.8357\n",
      "Epoch 68/100\n",
      "7000/7000 [==============================] - 0s 48us/sample - loss: 0.3887 - accuracy: 0.8416 - val_loss: 0.4043 - val_accuracy: 0.8380\n",
      "Epoch 69/100\n",
      "7000/7000 [==============================] - 0s 46us/sample - loss: 0.3883 - accuracy: 0.8403 - val_loss: 0.4029 - val_accuracy: 0.8370\n",
      "Epoch 70/100\n",
      "7000/7000 [==============================] - 0s 45us/sample - loss: 0.3880 - accuracy: 0.8416 - val_loss: 0.4039 - val_accuracy: 0.8387\n",
      "Epoch 71/100\n",
      "7000/7000 [==============================] - 0s 49us/sample - loss: 0.3884 - accuracy: 0.8407 - val_loss: 0.4039 - val_accuracy: 0.8387\n",
      "Epoch 72/100\n",
      "7000/7000 [==============================] - 0s 45us/sample - loss: 0.3881 - accuracy: 0.8407 - val_loss: 0.4039 - val_accuracy: 0.8363\n",
      "Epoch 73/100\n",
      "7000/7000 [==============================] - 0s 46us/sample - loss: 0.3884 - accuracy: 0.8397 - val_loss: 0.4042 - val_accuracy: 0.8377\n",
      "Epoch 74/100\n",
      "7000/7000 [==============================] - 0s 46us/sample - loss: 0.3883 - accuracy: 0.8400 - val_loss: 0.4035 - val_accuracy: 0.8383\n",
      "Epoch 75/100\n",
      "7000/7000 [==============================] - 0s 46us/sample - loss: 0.3879 - accuracy: 0.8404 - val_loss: 0.4025 - val_accuracy: 0.8380\n",
      "Epoch 76/100\n",
      "7000/7000 [==============================] - 0s 46us/sample - loss: 0.3881 - accuracy: 0.8411 - val_loss: 0.4045 - val_accuracy: 0.8387\n",
      "Epoch 77/100\n",
      "7000/7000 [==============================] - 0s 45us/sample - loss: 0.3878 - accuracy: 0.8396 - val_loss: 0.4044 - val_accuracy: 0.8343\n",
      "Epoch 78/100\n",
      "7000/7000 [==============================] - 0s 47us/sample - loss: 0.3880 - accuracy: 0.8403 - val_loss: 0.4029 - val_accuracy: 0.8387\n",
      "Epoch 79/100\n",
      "7000/7000 [==============================] - 0s 48us/sample - loss: 0.3881 - accuracy: 0.8406 - val_loss: 0.4028 - val_accuracy: 0.8377\n",
      "Epoch 80/100\n",
      "7000/7000 [==============================] - 0s 45us/sample - loss: 0.3881 - accuracy: 0.8411 - val_loss: 0.4035 - val_accuracy: 0.8373\n",
      "Epoch 81/100\n",
      "7000/7000 [==============================] - 0s 51us/sample - loss: 0.3876 - accuracy: 0.8407 - val_loss: 0.4058 - val_accuracy: 0.8363\n",
      "Epoch 82/100\n",
      "7000/7000 [==============================] - 0s 46us/sample - loss: 0.3881 - accuracy: 0.8407 - val_loss: 0.4054 - val_accuracy: 0.8370\n",
      "Epoch 83/100\n",
      "7000/7000 [==============================] - 0s 43us/sample - loss: 0.3880 - accuracy: 0.8411 - val_loss: 0.4034 - val_accuracy: 0.8373\n",
      "Epoch 84/100\n",
      "7000/7000 [==============================] - 0s 48us/sample - loss: 0.3880 - accuracy: 0.8399 - val_loss: 0.4039 - val_accuracy: 0.8370\n",
      "Epoch 85/100\n",
      "7000/7000 [==============================] - 0s 47us/sample - loss: 0.3878 - accuracy: 0.8399 - val_loss: 0.4033 - val_accuracy: 0.8373\n",
      "Epoch 86/100\n",
      "7000/7000 [==============================] - 0s 48us/sample - loss: 0.3878 - accuracy: 0.8401 - val_loss: 0.4041 - val_accuracy: 0.8373\n",
      "Epoch 87/100\n",
      "7000/7000 [==============================] - 0s 47us/sample - loss: 0.3879 - accuracy: 0.8399 - val_loss: 0.4043 - val_accuracy: 0.8377\n",
      "Epoch 88/100\n",
      "7000/7000 [==============================] - 0s 47us/sample - loss: 0.3879 - accuracy: 0.8406 - val_loss: 0.4030 - val_accuracy: 0.8373\n",
      "Epoch 89/100\n",
      "7000/7000 [==============================] - 0s 49us/sample - loss: 0.3879 - accuracy: 0.8396 - val_loss: 0.4045 - val_accuracy: 0.8367\n",
      "Epoch 90/100\n",
      "7000/7000 [==============================] - 0s 50us/sample - loss: 0.3880 - accuracy: 0.8380 - val_loss: 0.4037 - val_accuracy: 0.8373\n",
      "Epoch 91/100\n",
      "7000/7000 [==============================] - 0s 46us/sample - loss: 0.3877 - accuracy: 0.8396 - val_loss: 0.4036 - val_accuracy: 0.8370\n",
      "Epoch 92/100\n",
      "7000/7000 [==============================] - 0s 51us/sample - loss: 0.3877 - accuracy: 0.8400 - val_loss: 0.4037 - val_accuracy: 0.8367\n",
      "Epoch 93/100\n",
      "7000/7000 [==============================] - 0s 44us/sample - loss: 0.3874 - accuracy: 0.8406 - val_loss: 0.4048 - val_accuracy: 0.8333\n",
      "Epoch 94/100\n",
      "7000/7000 [==============================] - 0s 44us/sample - loss: 0.3881 - accuracy: 0.8390 - val_loss: 0.4037 - val_accuracy: 0.8367\n",
      "Epoch 95/100\n",
      "7000/7000 [==============================] - 0s 49us/sample - loss: 0.3875 - accuracy: 0.8406 - val_loss: 0.4059 - val_accuracy: 0.8327\n",
      "Epoch 96/100\n",
      "7000/7000 [==============================] - 0s 45us/sample - loss: 0.3881 - accuracy: 0.8399 - val_loss: 0.4047 - val_accuracy: 0.8357\n",
      "Epoch 97/100\n",
      "7000/7000 [==============================] - 0s 51us/sample - loss: 0.3878 - accuracy: 0.8391 - val_loss: 0.4041 - val_accuracy: 0.8357\n",
      "Epoch 98/100\n",
      "7000/7000 [==============================] - 0s 48us/sample - loss: 0.3875 - accuracy: 0.8390 - val_loss: 0.4048 - val_accuracy: 0.8350\n",
      "Epoch 99/100\n",
      "7000/7000 [==============================] - 0s 47us/sample - loss: 0.3874 - accuracy: 0.8399 - val_loss: 0.4043 - val_accuracy: 0.8367\n",
      "Epoch 100/100\n",
      "7000/7000 [==============================] - 0s 47us/sample - loss: 0.3877 - accuracy: 0.8399 - val_loss: 0.4037 - val_accuracy: 0.8367\n"
     ]
    },
    {
     "data": {
      "text/plain": [
       "<tensorflow.python.keras.callbacks.History at 0x7f21b61e5b10>"
      ]
     },
     "execution_count": 145,
     "metadata": {
      "tags": []
     },
     "output_type": "execute_result"
    }
   ],
   "source": [
    "classifier2.fit(X_train, y_train,           \n",
    "          validation_data=(X_test,y_test),\n",
    "          epochs=100,\n",
    "          batch_size=32)"
   ]
  },
  {
   "cell_type": "code",
   "execution_count": 160,
   "metadata": {
    "colab": {
     "base_uri": "https://localhost:8080/"
    },
    "id": "4OSSPAAS98nx",
    "outputId": "0f663458-4fce-4a35-e060-7a0bf79372ac"
   },
   "outputs": [
    {
     "name": "stderr",
     "output_type": "stream",
     "text": [
      "/usr/local/lib/python3.7/dist-packages/tensorflow/python/keras/engine/training.py:2325: UserWarning: `Model.state_updates` will be removed in a future version. This property should not be used in TensorFlow 2.0, as `updates` are applied automatically.\n",
      "  warnings.warn('`Model.state_updates` will be removed in a future version. '\n"
     ]
    },
    {
     "name": "stdout",
     "output_type": "stream",
     "text": [
      "[[False]\n",
      " [False]\n",
      " [False]\n",
      " ...\n",
      " [False]\n",
      " [False]\n",
      " [False]]\n"
     ]
    }
   ],
   "source": [
    "# To use the confusion Matrix, we need to convert the probabilities that a customer will\n",
    "# leave the bank into the form true or false. \n",
    "# So we will use the cutoff value 0.5 to indicate whether they are likely to exit or not.\n",
    "y_pred = classifier2.predict(X_test)\n",
    "y_pred = (y_pred > 0.5)\n",
    "print(y_pred)"
   ]
  },
  {
   "cell_type": "code",
   "execution_count": 161,
   "metadata": {
    "colab": {
     "base_uri": "https://localhost:8080/"
    },
    "id": "leCBLghz-BPA",
    "outputId": "c08b8485-bbb2-44ac-dcbc-916178aba845"
   },
   "outputs": [
    {
     "name": "stdout",
     "output_type": "stream",
     "text": [
      "[[2330   85]\n",
      " [ 405  180]]\n"
     ]
    }
   ],
   "source": [
    "cm2 = confusion_matrix(y_test, y_pred)\n",
    "print(cm2)"
   ]
  },
  {
   "cell_type": "code",
   "execution_count": 162,
   "metadata": {
    "colab": {
     "base_uri": "https://localhost:8080/"
    },
    "id": "FnmvQw2n-Fls",
    "outputId": "5a3eb2b9-0c3d-4fbe-b021-ef92e3556ba3"
   },
   "outputs": [
    {
     "name": "stdout",
     "output_type": "stream",
     "text": [
      "83.66666666666667 % of testing data was classified correctly\n"
     ]
    }
   ],
   "source": [
    "accuracy_model2 = ((cm2[0][0]+cm2[1][1])*100)/(cm2[0][0]+cm2[1][1]+cm2[0][1]+cm2[1][0])\n",
    "print (accuracy_model2, '% of testing data was classified correctly')"
   ]
  },
  {
   "cell_type": "code",
   "execution_count": 163,
   "metadata": {
    "id": "3EtH98uk563m"
   },
   "outputs": [],
   "source": [
    "#Initializing Neural Network with 2 Hidden Layers\n",
    "\n",
    "model = Sequential()\n",
    "model.add(Dense(6, input_shape=(11,), activation='relu'))\n",
    "model.add(Dense(6, activation='relu'))\n",
    "model.add(Dense(6, activation='relu'))\n",
    "model.add(Dense(1, activation='sigmoid'))"
   ]
  },
  {
   "cell_type": "code",
   "execution_count": 164,
   "metadata": {
    "id": "p77Pknul1hZg"
   },
   "outputs": [],
   "source": [
    "# Compiling Neural Network\n",
    "model.compile(optimizer = 'Adam', loss = 'binary_crossentropy', metrics = ['accuracy'])"
   ]
  },
  {
   "cell_type": "code",
   "execution_count": 165,
   "metadata": {
    "colab": {
     "base_uri": "https://localhost:8080/"
    },
    "id": "plUtKQGL6aUi",
    "outputId": "b647cc81-7ec8-4565-9904-e6f357095e47"
   },
   "outputs": [
    {
     "name": "stdout",
     "output_type": "stream",
     "text": [
      "Model: \"sequential_16\"\n",
      "_________________________________________________________________\n",
      "Layer (type)                 Output Shape              Param #   \n",
      "=================================================================\n",
      "dense_54 (Dense)             (None, 6)                 72        \n",
      "_________________________________________________________________\n",
      "dense_55 (Dense)             (None, 6)                 42        \n",
      "_________________________________________________________________\n",
      "dense_56 (Dense)             (None, 6)                 42        \n",
      "_________________________________________________________________\n",
      "dense_57 (Dense)             (None, 1)                 7         \n",
      "=================================================================\n",
      "Total params: 163\n",
      "Trainable params: 163\n",
      "Non-trainable params: 0\n",
      "_________________________________________________________________\n"
     ]
    }
   ],
   "source": [
    "model.summary()"
   ]
  },
  {
   "cell_type": "code",
   "execution_count": 166,
   "metadata": {
    "colab": {
     "base_uri": "https://localhost:8080/"
    },
    "id": "vQuBLY3F11d-",
    "outputId": "f427d620-bf95-42be-987e-9159e9e43cbc"
   },
   "outputs": [
    {
     "name": "stdout",
     "output_type": "stream",
     "text": [
      "Train on 7000 samples, validate on 3000 samples\n",
      "Epoch 1/100\n",
      "6176/7000 [=========================>....] - ETA: 0s - loss: 0.6493 - accuracy: 0.6737"
     ]
    },
    {
     "name": "stderr",
     "output_type": "stream",
     "text": [
      "/usr/local/lib/python3.7/dist-packages/tensorflow/python/keras/engine/training.py:2325: UserWarning: `Model.state_updates` will be removed in a future version. This property should not be used in TensorFlow 2.0, as `updates` are applied automatically.\n",
      "  warnings.warn('`Model.state_updates` will be removed in a future version. '\n"
     ]
    },
    {
     "name": "stdout",
     "output_type": "stream",
     "text": [
      "7000/7000 [==============================] - 1s 81us/sample - loss: 0.6397 - accuracy: 0.6881 - val_loss: 0.5505 - val_accuracy: 0.8050\n",
      "Epoch 2/100\n",
      "7000/7000 [==============================] - 0s 46us/sample - loss: 0.5184 - accuracy: 0.7926 - val_loss: 0.4807 - val_accuracy: 0.8050\n",
      "Epoch 3/100\n",
      "7000/7000 [==============================] - 0s 52us/sample - loss: 0.4661 - accuracy: 0.8011 - val_loss: 0.4434 - val_accuracy: 0.8173\n",
      "Epoch 4/100\n",
      "7000/7000 [==============================] - 0s 50us/sample - loss: 0.4252 - accuracy: 0.8246 - val_loss: 0.4104 - val_accuracy: 0.8277\n",
      "Epoch 5/100\n",
      "7000/7000 [==============================] - 0s 52us/sample - loss: 0.3947 - accuracy: 0.8354 - val_loss: 0.3862 - val_accuracy: 0.8370\n",
      "Epoch 6/100\n",
      "7000/7000 [==============================] - 0s 50us/sample - loss: 0.3766 - accuracy: 0.8426 - val_loss: 0.3731 - val_accuracy: 0.8467\n",
      "Epoch 7/100\n",
      "7000/7000 [==============================] - 0s 51us/sample - loss: 0.3658 - accuracy: 0.8527 - val_loss: 0.3650 - val_accuracy: 0.8490\n",
      "Epoch 8/100\n",
      "7000/7000 [==============================] - 0s 51us/sample - loss: 0.3583 - accuracy: 0.8530 - val_loss: 0.3608 - val_accuracy: 0.8550\n",
      "Epoch 9/100\n",
      "7000/7000 [==============================] - 0s 50us/sample - loss: 0.3536 - accuracy: 0.8564 - val_loss: 0.3577 - val_accuracy: 0.8557\n",
      "Epoch 10/100\n",
      "7000/7000 [==============================] - 0s 48us/sample - loss: 0.3490 - accuracy: 0.8566 - val_loss: 0.3547 - val_accuracy: 0.8577\n",
      "Epoch 11/100\n",
      "7000/7000 [==============================] - 0s 49us/sample - loss: 0.3464 - accuracy: 0.8587 - val_loss: 0.3534 - val_accuracy: 0.8603\n",
      "Epoch 12/100\n",
      "7000/7000 [==============================] - 0s 47us/sample - loss: 0.3445 - accuracy: 0.8586 - val_loss: 0.3523 - val_accuracy: 0.8590\n",
      "Epoch 13/100\n",
      "7000/7000 [==============================] - 0s 51us/sample - loss: 0.3422 - accuracy: 0.8600 - val_loss: 0.3503 - val_accuracy: 0.8580\n",
      "Epoch 14/100\n",
      "7000/7000 [==============================] - 0s 50us/sample - loss: 0.3413 - accuracy: 0.8589 - val_loss: 0.3488 - val_accuracy: 0.8577\n",
      "Epoch 15/100\n",
      "7000/7000 [==============================] - 0s 50us/sample - loss: 0.3403 - accuracy: 0.8596 - val_loss: 0.3483 - val_accuracy: 0.8597\n",
      "Epoch 16/100\n",
      "7000/7000 [==============================] - 0s 51us/sample - loss: 0.3396 - accuracy: 0.8604 - val_loss: 0.3483 - val_accuracy: 0.8613\n",
      "Epoch 17/100\n",
      "7000/7000 [==============================] - 0s 49us/sample - loss: 0.3385 - accuracy: 0.8616 - val_loss: 0.3488 - val_accuracy: 0.8617\n",
      "Epoch 18/100\n",
      "7000/7000 [==============================] - 0s 51us/sample - loss: 0.3380 - accuracy: 0.8623 - val_loss: 0.3484 - val_accuracy: 0.8627\n",
      "Epoch 19/100\n",
      "7000/7000 [==============================] - 0s 49us/sample - loss: 0.3377 - accuracy: 0.8610 - val_loss: 0.3476 - val_accuracy: 0.8610\n",
      "Epoch 20/100\n",
      "7000/7000 [==============================] - 0s 49us/sample - loss: 0.3371 - accuracy: 0.8617 - val_loss: 0.3466 - val_accuracy: 0.8610\n",
      "Epoch 21/100\n",
      "7000/7000 [==============================] - 0s 46us/sample - loss: 0.3364 - accuracy: 0.8629 - val_loss: 0.3466 - val_accuracy: 0.8610\n",
      "Epoch 22/100\n",
      "7000/7000 [==============================] - 0s 49us/sample - loss: 0.3360 - accuracy: 0.8649 - val_loss: 0.3463 - val_accuracy: 0.8620\n",
      "Epoch 23/100\n",
      "7000/7000 [==============================] - 0s 50us/sample - loss: 0.3354 - accuracy: 0.8641 - val_loss: 0.3474 - val_accuracy: 0.8597\n",
      "Epoch 24/100\n",
      "7000/7000 [==============================] - 0s 49us/sample - loss: 0.3353 - accuracy: 0.8630 - val_loss: 0.3462 - val_accuracy: 0.8617\n",
      "Epoch 25/100\n",
      "7000/7000 [==============================] - 0s 48us/sample - loss: 0.3353 - accuracy: 0.8640 - val_loss: 0.3460 - val_accuracy: 0.8620\n",
      "Epoch 26/100\n",
      "7000/7000 [==============================] - 0s 52us/sample - loss: 0.3347 - accuracy: 0.8636 - val_loss: 0.3456 - val_accuracy: 0.8637\n",
      "Epoch 27/100\n",
      "7000/7000 [==============================] - 0s 50us/sample - loss: 0.3343 - accuracy: 0.8649 - val_loss: 0.3459 - val_accuracy: 0.8603\n",
      "Epoch 28/100\n",
      "7000/7000 [==============================] - 0s 50us/sample - loss: 0.3346 - accuracy: 0.8636 - val_loss: 0.3455 - val_accuracy: 0.8643\n",
      "Epoch 29/100\n",
      "7000/7000 [==============================] - 0s 50us/sample - loss: 0.3343 - accuracy: 0.8623 - val_loss: 0.3456 - val_accuracy: 0.8603\n",
      "Epoch 30/100\n",
      "7000/7000 [==============================] - 0s 49us/sample - loss: 0.3341 - accuracy: 0.8630 - val_loss: 0.3461 - val_accuracy: 0.8613\n",
      "Epoch 31/100\n",
      "7000/7000 [==============================] - 0s 49us/sample - loss: 0.3341 - accuracy: 0.8634 - val_loss: 0.3455 - val_accuracy: 0.8633\n",
      "Epoch 32/100\n",
      "7000/7000 [==============================] - 0s 51us/sample - loss: 0.3338 - accuracy: 0.8629 - val_loss: 0.3455 - val_accuracy: 0.8637\n",
      "Epoch 33/100\n",
      "7000/7000 [==============================] - 0s 50us/sample - loss: 0.3339 - accuracy: 0.8631 - val_loss: 0.3456 - val_accuracy: 0.8640\n",
      "Epoch 34/100\n",
      "7000/7000 [==============================] - 0s 48us/sample - loss: 0.3336 - accuracy: 0.8633 - val_loss: 0.3457 - val_accuracy: 0.8627\n",
      "Epoch 35/100\n",
      "7000/7000 [==============================] - 0s 50us/sample - loss: 0.3335 - accuracy: 0.8644 - val_loss: 0.3452 - val_accuracy: 0.8627\n",
      "Epoch 36/100\n",
      "7000/7000 [==============================] - 0s 54us/sample - loss: 0.3328 - accuracy: 0.8627 - val_loss: 0.3461 - val_accuracy: 0.8650\n",
      "Epoch 37/100\n",
      "7000/7000 [==============================] - 0s 49us/sample - loss: 0.3329 - accuracy: 0.8637 - val_loss: 0.3459 - val_accuracy: 0.8667\n",
      "Epoch 38/100\n",
      "7000/7000 [==============================] - 0s 51us/sample - loss: 0.3328 - accuracy: 0.8640 - val_loss: 0.3452 - val_accuracy: 0.8617\n",
      "Epoch 39/100\n",
      "7000/7000 [==============================] - 0s 49us/sample - loss: 0.3327 - accuracy: 0.8649 - val_loss: 0.3455 - val_accuracy: 0.8620\n",
      "Epoch 40/100\n",
      "7000/7000 [==============================] - 0s 51us/sample - loss: 0.3329 - accuracy: 0.8647 - val_loss: 0.3452 - val_accuracy: 0.8643\n",
      "Epoch 41/100\n",
      "7000/7000 [==============================] - 0s 52us/sample - loss: 0.3324 - accuracy: 0.8657 - val_loss: 0.3470 - val_accuracy: 0.8663\n",
      "Epoch 42/100\n",
      "7000/7000 [==============================] - 0s 48us/sample - loss: 0.3326 - accuracy: 0.8650 - val_loss: 0.3461 - val_accuracy: 0.8650\n",
      "Epoch 43/100\n",
      "7000/7000 [==============================] - 0s 50us/sample - loss: 0.3324 - accuracy: 0.8636 - val_loss: 0.3455 - val_accuracy: 0.8643\n",
      "Epoch 44/100\n",
      "7000/7000 [==============================] - 0s 51us/sample - loss: 0.3326 - accuracy: 0.8639 - val_loss: 0.3460 - val_accuracy: 0.8617\n",
      "Epoch 45/100\n",
      "7000/7000 [==============================] - 0s 48us/sample - loss: 0.3320 - accuracy: 0.8640 - val_loss: 0.3465 - val_accuracy: 0.8617\n",
      "Epoch 46/100\n",
      "7000/7000 [==============================] - 0s 51us/sample - loss: 0.3325 - accuracy: 0.8649 - val_loss: 0.3452 - val_accuracy: 0.8627\n",
      "Epoch 47/100\n",
      "7000/7000 [==============================] - 0s 50us/sample - loss: 0.3320 - accuracy: 0.8656 - val_loss: 0.3457 - val_accuracy: 0.8607\n",
      "Epoch 48/100\n",
      "7000/7000 [==============================] - 0s 49us/sample - loss: 0.3315 - accuracy: 0.8654 - val_loss: 0.3456 - val_accuracy: 0.8657\n",
      "Epoch 49/100\n",
      "7000/7000 [==============================] - 0s 50us/sample - loss: 0.3316 - accuracy: 0.8656 - val_loss: 0.3460 - val_accuracy: 0.8610\n",
      "Epoch 50/100\n",
      "7000/7000 [==============================] - 0s 52us/sample - loss: 0.3314 - accuracy: 0.8663 - val_loss: 0.3452 - val_accuracy: 0.8640\n",
      "Epoch 51/100\n",
      "7000/7000 [==============================] - 0s 49us/sample - loss: 0.3315 - accuracy: 0.8650 - val_loss: 0.3459 - val_accuracy: 0.8643\n",
      "Epoch 52/100\n",
      "7000/7000 [==============================] - 0s 52us/sample - loss: 0.3314 - accuracy: 0.8664 - val_loss: 0.3458 - val_accuracy: 0.8630\n",
      "Epoch 53/100\n",
      "7000/7000 [==============================] - 0s 50us/sample - loss: 0.3316 - accuracy: 0.8659 - val_loss: 0.3455 - val_accuracy: 0.8613\n",
      "Epoch 54/100\n",
      "7000/7000 [==============================] - 0s 50us/sample - loss: 0.3311 - accuracy: 0.8654 - val_loss: 0.3457 - val_accuracy: 0.8637\n",
      "Epoch 55/100\n",
      "7000/7000 [==============================] - 0s 50us/sample - loss: 0.3308 - accuracy: 0.8663 - val_loss: 0.3463 - val_accuracy: 0.8600\n",
      "Epoch 56/100\n",
      "7000/7000 [==============================] - 0s 51us/sample - loss: 0.3310 - accuracy: 0.8657 - val_loss: 0.3459 - val_accuracy: 0.8620\n",
      "Epoch 57/100\n",
      "7000/7000 [==============================] - 0s 51us/sample - loss: 0.3309 - accuracy: 0.8651 - val_loss: 0.3463 - val_accuracy: 0.8633\n",
      "Epoch 58/100\n",
      "7000/7000 [==============================] - 0s 50us/sample - loss: 0.3310 - accuracy: 0.8666 - val_loss: 0.3461 - val_accuracy: 0.8623\n",
      "Epoch 59/100\n",
      "7000/7000 [==============================] - 0s 49us/sample - loss: 0.3308 - accuracy: 0.8659 - val_loss: 0.3476 - val_accuracy: 0.8617\n",
      "Epoch 60/100\n",
      "7000/7000 [==============================] - 0s 54us/sample - loss: 0.3309 - accuracy: 0.8660 - val_loss: 0.3472 - val_accuracy: 0.8597\n",
      "Epoch 61/100\n",
      "7000/7000 [==============================] - 0s 51us/sample - loss: 0.3306 - accuracy: 0.8680 - val_loss: 0.3474 - val_accuracy: 0.8607\n",
      "Epoch 62/100\n",
      "7000/7000 [==============================] - 0s 49us/sample - loss: 0.3309 - accuracy: 0.8656 - val_loss: 0.3467 - val_accuracy: 0.8620\n",
      "Epoch 63/100\n",
      "7000/7000 [==============================] - 0s 50us/sample - loss: 0.3306 - accuracy: 0.8653 - val_loss: 0.3464 - val_accuracy: 0.8630\n",
      "Epoch 64/100\n",
      "7000/7000 [==============================] - 0s 50us/sample - loss: 0.3305 - accuracy: 0.8670 - val_loss: 0.3467 - val_accuracy: 0.8610\n",
      "Epoch 65/100\n",
      "7000/7000 [==============================] - 0s 51us/sample - loss: 0.3306 - accuracy: 0.8654 - val_loss: 0.3463 - val_accuracy: 0.8630\n",
      "Epoch 66/100\n",
      "7000/7000 [==============================] - 0s 49us/sample - loss: 0.3304 - accuracy: 0.8673 - val_loss: 0.3463 - val_accuracy: 0.8627\n",
      "Epoch 67/100\n",
      "7000/7000 [==============================] - 0s 50us/sample - loss: 0.3308 - accuracy: 0.8661 - val_loss: 0.3473 - val_accuracy: 0.8617\n",
      "Epoch 68/100\n",
      "7000/7000 [==============================] - 0s 49us/sample - loss: 0.3303 - accuracy: 0.8661 - val_loss: 0.3471 - val_accuracy: 0.8613\n",
      "Epoch 69/100\n",
      "7000/7000 [==============================] - 0s 52us/sample - loss: 0.3300 - accuracy: 0.8654 - val_loss: 0.3473 - val_accuracy: 0.8623\n",
      "Epoch 70/100\n",
      "7000/7000 [==============================] - 0s 50us/sample - loss: 0.3300 - accuracy: 0.8671 - val_loss: 0.3477 - val_accuracy: 0.8613\n",
      "Epoch 71/100\n",
      "7000/7000 [==============================] - 0s 54us/sample - loss: 0.3301 - accuracy: 0.8669 - val_loss: 0.3463 - val_accuracy: 0.8630\n",
      "Epoch 72/100\n",
      "7000/7000 [==============================] - 0s 51us/sample - loss: 0.3304 - accuracy: 0.8670 - val_loss: 0.3461 - val_accuracy: 0.8633\n",
      "Epoch 73/100\n",
      "7000/7000 [==============================] - 0s 49us/sample - loss: 0.3300 - accuracy: 0.8670 - val_loss: 0.3465 - val_accuracy: 0.8617\n",
      "Epoch 74/100\n",
      "7000/7000 [==============================] - 0s 53us/sample - loss: 0.3299 - accuracy: 0.8673 - val_loss: 0.3472 - val_accuracy: 0.8630\n",
      "Epoch 75/100\n",
      "7000/7000 [==============================] - 0s 50us/sample - loss: 0.3299 - accuracy: 0.8663 - val_loss: 0.3475 - val_accuracy: 0.8633\n",
      "Epoch 76/100\n",
      "7000/7000 [==============================] - 0s 48us/sample - loss: 0.3303 - accuracy: 0.8670 - val_loss: 0.3483 - val_accuracy: 0.8620\n",
      "Epoch 77/100\n",
      "7000/7000 [==============================] - 0s 51us/sample - loss: 0.3302 - accuracy: 0.8647 - val_loss: 0.3480 - val_accuracy: 0.8610\n",
      "Epoch 78/100\n",
      "7000/7000 [==============================] - 0s 47us/sample - loss: 0.3303 - accuracy: 0.8653 - val_loss: 0.3473 - val_accuracy: 0.8630\n",
      "Epoch 79/100\n",
      "7000/7000 [==============================] - 0s 49us/sample - loss: 0.3299 - accuracy: 0.8670 - val_loss: 0.3495 - val_accuracy: 0.8587\n",
      "Epoch 80/100\n",
      "7000/7000 [==============================] - 0s 50us/sample - loss: 0.3300 - accuracy: 0.8661 - val_loss: 0.3472 - val_accuracy: 0.8637\n",
      "Epoch 81/100\n",
      "7000/7000 [==============================] - 0s 50us/sample - loss: 0.3302 - accuracy: 0.8669 - val_loss: 0.3469 - val_accuracy: 0.8627\n",
      "Epoch 82/100\n",
      "7000/7000 [==============================] - 0s 51us/sample - loss: 0.3298 - accuracy: 0.8676 - val_loss: 0.3469 - val_accuracy: 0.8637\n",
      "Epoch 83/100\n",
      "7000/7000 [==============================] - 0s 49us/sample - loss: 0.3300 - accuracy: 0.8679 - val_loss: 0.3467 - val_accuracy: 0.8633\n",
      "Epoch 84/100\n",
      "7000/7000 [==============================] - 0s 48us/sample - loss: 0.3303 - accuracy: 0.8666 - val_loss: 0.3470 - val_accuracy: 0.8650\n",
      "Epoch 85/100\n",
      "7000/7000 [==============================] - 0s 50us/sample - loss: 0.3301 - accuracy: 0.8654 - val_loss: 0.3481 - val_accuracy: 0.8620\n",
      "Epoch 86/100\n",
      "7000/7000 [==============================] - 0s 52us/sample - loss: 0.3292 - accuracy: 0.8663 - val_loss: 0.3477 - val_accuracy: 0.8633\n",
      "Epoch 87/100\n",
      "7000/7000 [==============================] - 0s 50us/sample - loss: 0.3298 - accuracy: 0.8673 - val_loss: 0.3471 - val_accuracy: 0.8627\n",
      "Epoch 88/100\n",
      "7000/7000 [==============================] - 0s 50us/sample - loss: 0.3298 - accuracy: 0.8656 - val_loss: 0.3469 - val_accuracy: 0.8627\n",
      "Epoch 89/100\n",
      "7000/7000 [==============================] - 0s 51us/sample - loss: 0.3294 - accuracy: 0.8666 - val_loss: 0.3477 - val_accuracy: 0.8617\n",
      "Epoch 90/100\n",
      "7000/7000 [==============================] - 0s 52us/sample - loss: 0.3297 - accuracy: 0.8679 - val_loss: 0.3471 - val_accuracy: 0.8640\n",
      "Epoch 91/100\n",
      "7000/7000 [==============================] - 0s 49us/sample - loss: 0.3303 - accuracy: 0.8649 - val_loss: 0.3471 - val_accuracy: 0.8647\n",
      "Epoch 92/100\n",
      "7000/7000 [==============================] - 0s 52us/sample - loss: 0.3293 - accuracy: 0.8677 - val_loss: 0.3484 - val_accuracy: 0.8637\n",
      "Epoch 93/100\n",
      "7000/7000 [==============================] - 0s 46us/sample - loss: 0.3293 - accuracy: 0.8671 - val_loss: 0.3481 - val_accuracy: 0.8613\n",
      "Epoch 94/100\n",
      "7000/7000 [==============================] - 0s 49us/sample - loss: 0.3292 - accuracy: 0.8669 - val_loss: 0.3467 - val_accuracy: 0.8650\n",
      "Epoch 95/100\n",
      "7000/7000 [==============================] - 0s 53us/sample - loss: 0.3293 - accuracy: 0.8651 - val_loss: 0.3476 - val_accuracy: 0.8630\n",
      "Epoch 96/100\n",
      "7000/7000 [==============================] - 0s 52us/sample - loss: 0.3296 - accuracy: 0.8657 - val_loss: 0.3473 - val_accuracy: 0.8633\n",
      "Epoch 97/100\n",
      "7000/7000 [==============================] - 0s 51us/sample - loss: 0.3292 - accuracy: 0.8664 - val_loss: 0.3485 - val_accuracy: 0.8650\n",
      "Epoch 98/100\n",
      "7000/7000 [==============================] - 0s 50us/sample - loss: 0.3292 - accuracy: 0.8659 - val_loss: 0.3474 - val_accuracy: 0.8640\n",
      "Epoch 99/100\n",
      "7000/7000 [==============================] - 0s 52us/sample - loss: 0.3292 - accuracy: 0.8660 - val_loss: 0.3473 - val_accuracy: 0.8647\n",
      "Epoch 100/100\n",
      "7000/7000 [==============================] - 0s 54us/sample - loss: 0.3292 - accuracy: 0.8661 - val_loss: 0.3479 - val_accuracy: 0.8650\n"
     ]
    },
    {
     "data": {
      "text/plain": [
       "<tensorflow.python.keras.callbacks.History at 0x7f21b6067710>"
      ]
     },
     "execution_count": 166,
     "metadata": {
      "tags": []
     },
     "output_type": "execute_result"
    }
   ],
   "source": [
    "# Fitting our model \n",
    "model.fit(X_train, y_train, validation_data=(X_test,y_test), batch_size = 32, epochs = 100)"
   ]
  },
  {
   "cell_type": "markdown",
   "metadata": {
    "id": "kauK4kWu6wTt"
   },
   "source": [
    "To use the confusion Matrix, we need to convert the probabilities that a customer will leave the bank into the form true or false. So we will use the cutoff value 0.5 to indicate whether they are likely to exit or not.\n",
    "y_pred = (y_pred > 0.5)\n",
    "print(y_pred)"
   ]
  },
  {
   "cell_type": "code",
   "execution_count": 167,
   "metadata": {
    "colab": {
     "base_uri": "https://localhost:8080/"
    },
    "id": "9SgzIuVh2iMI",
    "outputId": "64524dac-a594-4526-ef55-783f622b59cb"
   },
   "outputs": [
    {
     "name": "stderr",
     "output_type": "stream",
     "text": [
      "/usr/local/lib/python3.7/dist-packages/tensorflow/python/keras/engine/training.py:2325: UserWarning: `Model.state_updates` will be removed in a future version. This property should not be used in TensorFlow 2.0, as `updates` are applied automatically.\n",
      "  warnings.warn('`Model.state_updates` will be removed in a future version. '\n"
     ]
    },
    {
     "name": "stdout",
     "output_type": "stream",
     "text": [
      "[[False]\n",
      " [ True]\n",
      " [False]\n",
      " ...\n",
      " [False]\n",
      " [False]\n",
      " [False]]\n"
     ]
    }
   ],
   "source": [
    "# Predicting the Test set results\n",
    "y_pred = model.predict(X_test)\n",
    "y_pred = (y_pred > 0.5)\n",
    "print(y_pred)"
   ]
  },
  {
   "cell_type": "code",
   "execution_count": 169,
   "metadata": {
    "colab": {
     "base_uri": "https://localhost:8080/"
    },
    "id": "5XdBIOAm2svR",
    "outputId": "85ebf76b-1346-4e48-df7f-ad5642f27be9"
   },
   "outputs": [
    {
     "data": {
      "text/plain": [
       "array([[2335,   80],\n",
       "       [ 325,  260]])"
      ]
     },
     "execution_count": 169,
     "metadata": {
      "tags": []
     },
     "output_type": "execute_result"
    }
   ],
   "source": [
    "# Creating the Confusion Matrix\n",
    "from sklearn.metrics import confusion_matrix\n",
    "cm = confusion_matrix(y_test, y_pred)\n",
    "cm"
   ]
  },
  {
   "cell_type": "code",
   "execution_count": 170,
   "metadata": {
    "colab": {
     "base_uri": "https://localhost:8080/"
    },
    "id": "v5Du3lubr4sA",
    "outputId": "8987144d-4167-4bda-ff56-b847063edb19"
   },
   "outputs": [
    {
     "name": "stdout",
     "output_type": "stream",
     "text": [
      "86.5 % of testing data was classified correctly\n"
     ]
    }
   ],
   "source": [
    "accuracy_model3 = ((cm[0][0]+cm[1][1])*100)/(cm[0][0]+cm[1][1]+cm[0][1]+cm[1][0])\n",
    "print (accuracy_model3, '% of testing data was classified correctly')"
   ]
  },
  {
   "cell_type": "markdown",
   "metadata": {
    "id": "ITv4GT_URVP_"
   },
   "source": [
    "The optimised model gives better results as seen from the confusion matrix as well as improved accuracy. \n",
    "Compared to single hidden layer, 2 hidden layers provided higher accuracy"
   ]
  },
  {
   "cell_type": "code",
   "execution_count": null,
   "metadata": {
    "id": "w_P2_MUMRhGu"
   },
   "outputs": [],
   "source": []
  },
  {
   "cell_type": "code",
   "execution_count": null,
   "metadata": {
    "id": "QxqbhgWaRhD7"
   },
   "outputs": [],
   "source": []
  },
  {
   "cell_type": "code",
   "execution_count": null,
   "metadata": {
    "id": "khEl_e0zRhBV"
   },
   "outputs": [],
   "source": []
  },
  {
   "cell_type": "code",
   "execution_count": null,
   "metadata": {
    "id": "8akbtSbkRg-l"
   },
   "outputs": [],
   "source": []
  },
  {
   "cell_type": "code",
   "execution_count": null,
   "metadata": {
    "id": "XGCKfIqeRg8O"
   },
   "outputs": [],
   "source": []
  }
 ],
 "metadata": {
  "colab": {
   "collapsed_sections": [],
   "name": "Bank_Custmer_Churn_Modeling.ipynb",
   "provenance": []
  },
  "kernelspec": {
   "display_name": "Python 3",
   "language": "python",
   "name": "python3"
  },
  "language_info": {
   "codemirror_mode": {
    "name": "ipython",
    "version": 3
   },
   "file_extension": ".py",
   "mimetype": "text/x-python",
   "name": "python",
   "nbconvert_exporter": "python",
   "pygments_lexer": "ipython3",
   "version": "3.7.3"
  }
 },
 "nbformat": 4,
 "nbformat_minor": 1
}
