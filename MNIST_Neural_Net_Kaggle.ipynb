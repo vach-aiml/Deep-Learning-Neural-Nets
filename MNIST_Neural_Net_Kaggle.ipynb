{
  "nbformat": 4,
  "nbformat_minor": 0,
  "metadata": {
    "colab": {
      "name": "MNIST kaggle.ipynb",
      "provenance": [],
      "collapsed_sections": []
    },
    "kernelspec": {
      "name": "python3",
      "display_name": "Python 3"
    }
  },
  "cells": [
    {
      "cell_type": "code",
      "metadata": {
        "id": "K08La8Zip2SH"
      },
      "source": [
        "# Import libraries\r\n",
        "import numpy as np\r\n",
        "import pandas as pd\r\n",
        "from sklearn.metrics import accuracy_score\r\n",
        "from sklearn import preprocessing\r\n",
        "from sklearn import metrics\r\n",
        "from sklearn.linear_model import LogisticRegression\r\n",
        "from sklearn.metrics import f1_score\r\n",
        "from tensorflow import keras\r\n",
        "from tensorflow.keras.utils import to_categorical # to One-Hot-Code values\r\n",
        "from tensorflow.keras.models import Sequential\r\n",
        "from tensorflow.keras.layers import Activation, Dropout, Dense, Flatten\r\n",
        "from tensorflow.keras.layers import Conv2D, MaxPooling2D # create convolutional layer\r\n",
        "from keras.models import Model\r\n",
        "import matplotlib.pyplot as plt # plotting graphs for visual analysis\r\n",
        "from sklearn.model_selection import train_test_split #splitting dataset\r\n",
        "%matplotlib inline"
      ],
      "execution_count": null,
      "outputs": []
    },
    {
      "cell_type": "code",
      "metadata": {
        "id": "ARdOx2ywqR7c"
      },
      "source": [
        "train_df = pd.read_csv('/content/drive/MyDrive/train.csv')\r\n",
        "test_df = pd.read_csv('/content/drive/MyDrive/test.csv')"
      ],
      "execution_count": null,
      "outputs": []
    },
    {
      "cell_type": "code",
      "metadata": {
        "colab": {
          "base_uri": "https://localhost:8080/"
        },
        "id": "pdMdaWOxqfvm",
        "outputId": "7e90eb41-b079-4378-876a-ca48d9e0113c"
      },
      "source": [
        "print(train_df.shape)\r\n",
        "print(test_df.shape)"
      ],
      "execution_count": null,
      "outputs": [
        {
          "output_type": "stream",
          "text": [
            "(42000, 785)\n",
            "(28000, 784)\n"
          ],
          "name": "stdout"
        }
      ]
    },
    {
      "cell_type": "code",
      "metadata": {
        "colab": {
          "base_uri": "https://localhost:8080/"
        },
        "id": "NAwV7fSC_pit",
        "outputId": "9617582f-b2dd-4c5a-95c5-80bca0b89a20"
      },
      "source": [
        "train_df.info()"
      ],
      "execution_count": null,
      "outputs": [
        {
          "output_type": "stream",
          "text": [
            "<class 'pandas.core.frame.DataFrame'>\n",
            "RangeIndex: 42000 entries, 0 to 41999\n",
            "Columns: 785 entries, label to pixel783\n",
            "dtypes: int64(785)\n",
            "memory usage: 251.5 MB\n"
          ],
          "name": "stdout"
        }
      ]
    },
    {
      "cell_type": "code",
      "metadata": {
        "id": "O1SBYXDfqhuP"
      },
      "source": [
        "#Separating labels and pixel values\r\n",
        "X_train = train_df.drop('label',axis=1)\r\n",
        "y_train = train_df['label']"
      ],
      "execution_count": null,
      "outputs": []
    },
    {
      "cell_type": "code",
      "metadata": {
        "colab": {
          "base_uri": "https://localhost:8080/"
        },
        "id": "q9hX_E67-BMg",
        "outputId": "9b21a887-8f73-4095-b97b-8ab7328d3f58"
      },
      "source": [
        "print(X_train.shape)\r\n",
        "print(y_train.shape)"
      ],
      "execution_count": null,
      "outputs": [
        {
          "output_type": "stream",
          "text": [
            "(42000, 784)\n",
            "(42000,)\n"
          ],
          "name": "stdout"
        }
      ]
    },
    {
      "cell_type": "code",
      "metadata": {
        "id": "XDK1MH9ZrcTb"
      },
      "source": [
        "#Normalizing data\r\n",
        "X_train = X_train/255.\r\n",
        "test_df = test_df/255."
      ],
      "execution_count": null,
      "outputs": []
    },
    {
      "cell_type": "code",
      "metadata": {
        "id": "s4-Bc11V_QVC"
      },
      "source": [
        "image_train, image_val, label_train, label_val = train_test_split(X_train, y_train,\r\n",
        "                                        test_size=0.1, random_state=44)"
      ],
      "execution_count": null,
      "outputs": []
    },
    {
      "cell_type": "code",
      "metadata": {
        "colab": {
          "base_uri": "https://localhost:8080/"
        },
        "id": "frDxBi3arpA3",
        "outputId": "6d4cda87-5c34-411e-bf2d-6ce2e8972ea5"
      },
      "source": [
        "image_train.shape"
      ],
      "execution_count": null,
      "outputs": [
        {
          "output_type": "execute_result",
          "data": {
            "text/plain": [
              "(37800, 784)"
            ]
          },
          "metadata": {
            "tags": []
          },
          "execution_count": 42
        }
      ]
    },
    {
      "cell_type": "code",
      "metadata": {
        "colab": {
          "base_uri": "https://localhost:8080/"
        },
        "id": "aZ-hdtPy82iP",
        "outputId": "e8d46885-a23b-4fef-8faa-44a377ee22fe"
      },
      "source": [
        "label_train.shape"
      ],
      "execution_count": null,
      "outputs": [
        {
          "output_type": "execute_result",
          "data": {
            "text/plain": [
              "(37800,)"
            ]
          },
          "metadata": {
            "tags": []
          },
          "execution_count": 43
        }
      ]
    },
    {
      "cell_type": "code",
      "metadata": {
        "colab": {
          "base_uri": "https://localhost:8080/"
        },
        "id": "mvQgFTxx6X9Y",
        "outputId": "4760d65b-7ecb-465d-8ae0-f9646b4a2377"
      },
      "source": [
        "# Build and fit the Logistic Regression model\r\n",
        "log_reg = LogisticRegression( C=0.1, solver='sag', random_state=4, verbose=1)\r\n",
        "log_reg.fit(image_train, label_train)"
      ],
      "execution_count": null,
      "outputs": [
        {
          "output_type": "stream",
          "text": [
            "[Parallel(n_jobs=1)]: Using backend SequentialBackend with 1 concurrent workers.\n"
          ],
          "name": "stderr"
        },
        {
          "output_type": "stream",
          "text": [
            "convergence after 43 epochs took 55 seconds\n"
          ],
          "name": "stdout"
        },
        {
          "output_type": "stream",
          "text": [
            "[Parallel(n_jobs=1)]: Done   1 out of   1 | elapsed:   55.1s finished\n"
          ],
          "name": "stderr"
        },
        {
          "output_type": "execute_result",
          "data": {
            "text/plain": [
              "LogisticRegression(C=0.1, class_weight=None, dual=False, fit_intercept=True,\n",
              "                   intercept_scaling=1, l1_ratio=None, max_iter=100,\n",
              "                   multi_class='auto', n_jobs=None, penalty='l2',\n",
              "                   random_state=4, solver='sag', tol=0.0001, verbose=1,\n",
              "                   warm_start=False)"
            ]
          },
          "metadata": {
            "tags": []
          },
          "execution_count": 53
        }
      ]
    },
    {
      "cell_type": "code",
      "metadata": {
        "id": "nkYyk0NiB3Fj"
      },
      "source": [
        "y_pred = log_reg.predict(image_val)"
      ],
      "execution_count": null,
      "outputs": []
    },
    {
      "cell_type": "code",
      "metadata": {
        "colab": {
          "base_uri": "https://localhost:8080/"
        },
        "id": "75JFBOIyB6qj",
        "outputId": "e0096d5a-a41f-44cb-d8b9-c7e27995a902"
      },
      "source": [
        "# Evaluate the Model Accuracy\r\n",
        "\r\n",
        "# Comparing y test to y predict\r\n",
        "print(\"Logistic Regression Model Accuracy (after tuning solver) on test data: \", metrics.accuracy_score(label_val, y_pred))"
      ],
      "execution_count": null,
      "outputs": [
        {
          "output_type": "stream",
          "text": [
            "Logistic Regression Model Accuracy (after tuning solver) on test data:  0.9207142857142857\n"
          ],
          "name": "stdout"
        }
      ]
    },
    {
      "cell_type": "code",
      "metadata": {
        "id": "9jFhrfD8Ev7d",
        "colab": {
          "base_uri": "https://localhost:8080/",
          "height": 163
        },
        "outputId": "349852a2-0865-474b-a187-29d4a7e15ef2"
      },
      "source": [
        "test_result = log_reg.predict(test_df)"
      ],
      "execution_count": null,
      "outputs": [
        {
          "output_type": "error",
          "ename": "NameError",
          "evalue": "ignored",
          "traceback": [
            "\u001b[0;31m---------------------------------------------------------------------------\u001b[0m",
            "\u001b[0;31mNameError\u001b[0m                                 Traceback (most recent call last)",
            "\u001b[0;32m<ipython-input-12-a5c16ae41841>\u001b[0m in \u001b[0;36m<module>\u001b[0;34m()\u001b[0m\n\u001b[0;32m----> 1\u001b[0;31m \u001b[0mtest_result\u001b[0m \u001b[0;34m=\u001b[0m \u001b[0mlog_reg\u001b[0m\u001b[0;34m.\u001b[0m\u001b[0mpredict\u001b[0m\u001b[0;34m(\u001b[0m\u001b[0mtest_df\u001b[0m\u001b[0;34m)\u001b[0m\u001b[0;34m\u001b[0m\u001b[0;34m\u001b[0m\u001b[0m\n\u001b[0m",
            "\u001b[0;31mNameError\u001b[0m: name 'log_reg' is not defined"
          ]
        }
      ]
    },
    {
      "cell_type": "code",
      "metadata": {
        "id": "Rl9wE_588_xr"
      },
      "source": [
        "# For NN model\r\n",
        "# reshape images into 28*28*1 (-1 takes value as it is) for NN\r\n",
        "\r\n",
        "x_train = X_train.values.reshape(-1, 28, 28, 1)\r\n",
        "tesT_df=test_df.values.reshape(-1, 28, 28, 1)"
      ],
      "execution_count": null,
      "outputs": []
    },
    {
      "cell_type": "code",
      "metadata": {
        "id": "4N0EEJ9XC0jG"
      },
      "source": [
        "y_cat = to_categorical(y_train)"
      ],
      "execution_count": null,
      "outputs": []
    },
    {
      "cell_type": "code",
      "metadata": {
        "id": "abU3QzFk-nID"
      },
      "source": [
        "image_train, image_val, label_train, label_val = train_test_split(x_train, y_cat,\r\n",
        "                                        test_size=0.1, random_state=44)"
      ],
      "execution_count": null,
      "outputs": []
    },
    {
      "cell_type": "code",
      "metadata": {
        "colab": {
          "base_uri": "https://localhost:8080/"
        },
        "id": "COs8kq6T9cjf",
        "outputId": "ec006b6d-7a05-4354-9295-7d9324873f7b"
      },
      "source": [
        "model=Sequential()\r\n",
        "\r\n",
        "model.add(Conv2D(64, (3,3), \r\n",
        "                 activation='relu',\r\n",
        "                 input_shape=(28, 28, 1)))\r\n",
        "model.add(MaxPooling2D(pool_size=(2,2)))\r\n",
        "#model.add(Dropout(0.25))\r\n",
        "\r\n",
        "model.add(Conv2D(64, (3,3),\r\n",
        "                activation='relu',\r\n",
        "                input_shape=(28, 28, 1)))\r\n",
        "model.add(MaxPooling2D(pool_size=(2,2)))\r\n",
        "#model.add(Dropout(0.25))\r\n",
        "\r\n",
        "model.add(Conv2D(64, (3,3),\r\n",
        "                activation='relu',\r\n",
        "                input_shape=(28, 28, 1)))\r\n",
        "model.add(MaxPooling2D(pool_size=(2,2)))\r\n",
        "\r\n",
        "model.add(Dropout(0.25))\r\n",
        "\r\n",
        "#2. Create 2 Dense layers, one is hidden and other is for prediction(output)\r\n",
        "#Flatten(convert 2D to 1D array) the results for Dense Neural Network\r\n",
        "model.add(Flatten())\r\n",
        "#model.add(Dropout(0.25))\r\n",
        "\r\n",
        "#Add a dense layer to recognize and define pixel patterns\r\n",
        "model.add(Dense(256, activation='relu'))\r\n",
        "\r\n",
        "#Add another dense layer to identify and find probability of class 0-9\r\n",
        "model.add(Dense(10, activation='softmax'))\r\n",
        "\r\n",
        "model.summary()"
      ],
      "execution_count": null,
      "outputs": [
        {
          "output_type": "stream",
          "text": [
            "Model: \"sequential_1\"\n",
            "_________________________________________________________________\n",
            "Layer (type)                 Output Shape              Param #   \n",
            "=================================================================\n",
            "conv2d_3 (Conv2D)            (None, 26, 26, 64)        640       \n",
            "_________________________________________________________________\n",
            "max_pooling2d_3 (MaxPooling2 (None, 13, 13, 64)        0         \n",
            "_________________________________________________________________\n",
            "conv2d_4 (Conv2D)            (None, 11, 11, 64)        36928     \n",
            "_________________________________________________________________\n",
            "max_pooling2d_4 (MaxPooling2 (None, 5, 5, 64)          0         \n",
            "_________________________________________________________________\n",
            "conv2d_5 (Conv2D)            (None, 3, 3, 64)          36928     \n",
            "_________________________________________________________________\n",
            "max_pooling2d_5 (MaxPooling2 (None, 1, 1, 64)          0         \n",
            "_________________________________________________________________\n",
            "dropout_1 (Dropout)          (None, 1, 1, 64)          0         \n",
            "_________________________________________________________________\n",
            "flatten_1 (Flatten)          (None, 64)                0         \n",
            "_________________________________________________________________\n",
            "dense_2 (Dense)              (None, 256)               16640     \n",
            "_________________________________________________________________\n",
            "dense_3 (Dense)              (None, 10)                2570      \n",
            "=================================================================\n",
            "Total params: 93,706\n",
            "Trainable params: 93,706\n",
            "Non-trainable params: 0\n",
            "_________________________________________________________________\n"
          ],
          "name": "stdout"
        }
      ]
    },
    {
      "cell_type": "code",
      "metadata": {
        "id": "e97tNtV19d7H"
      },
      "source": [
        "model.compile(loss='categorical_crossentropy',\r\n",
        "                optimizer='Adam',    #rmsprop\r\n",
        "                metrics=['accuracy'])"
      ],
      "execution_count": null,
      "outputs": []
    },
    {
      "cell_type": "code",
      "metadata": {
        "id": "t9x-p7qL9lNK"
      },
      "source": [
        "epochs=5\r\n",
        "batch_size=64"
      ],
      "execution_count": null,
      "outputs": []
    },
    {
      "cell_type": "code",
      "metadata": {
        "colab": {
          "base_uri": "https://localhost:8080/"
        },
        "id": "gyPL4pJD9pWL",
        "outputId": "e92873ce-727f-4f39-a663-54e828c13c17"
      },
      "source": [
        "history=model.fit(image_train,label_train,\r\n",
        "                  batch_size=batch_size, epochs=epochs,\r\n",
        "                  validation_data = (image_val, label_val),\r\n",
        "                  verbose=2)"
      ],
      "execution_count": null,
      "outputs": [
        {
          "output_type": "stream",
          "text": [
            "Epoch 1/5\n",
            "591/591 - 45s - loss: 0.3876 - accuracy: 0.8798 - val_loss: 0.1657 - val_accuracy: 0.9493\n",
            "Epoch 2/5\n",
            "591/591 - 44s - loss: 0.1367 - accuracy: 0.9591 - val_loss: 0.0944 - val_accuracy: 0.9719\n",
            "Epoch 3/5\n",
            "591/591 - 44s - loss: 0.1005 - accuracy: 0.9697 - val_loss: 0.0673 - val_accuracy: 0.9802\n",
            "Epoch 4/5\n",
            "591/591 - 44s - loss: 0.0804 - accuracy: 0.9752 - val_loss: 0.0633 - val_accuracy: 0.9812\n",
            "Epoch 5/5\n",
            "591/591 - 44s - loss: 0.0691 - accuracy: 0.9790 - val_loss: 0.0632 - val_accuracy: 0.9845\n"
          ],
          "name": "stdout"
        }
      ]
    },
    {
      "cell_type": "code",
      "metadata": {
        "colab": {
          "base_uri": "https://localhost:8080/",
          "height": 610
        },
        "id": "Yv92yovA-6jU",
        "outputId": "a1b14010-fae4-4184-9856-81cd3962c6e0"
      },
      "source": [
        "fig, ax = plt.subplots(2,1, figsize=(15, 10))\r\n",
        "ax[0].plot(history.history['loss'], color='b', label=\"Training loss\")\r\n",
        "ax[0].plot(history.history['val_loss'], color='r', label=\"validation loss\")\r\n",
        "ax[0].legend()\r\n",
        "\r\n",
        "ax[1].plot(history.history['accuracy'], color='b', label=\"Training accuracy\")\r\n",
        "ax[1].plot(history.history['val_accuracy'], color='r',label=\"Validation accuracy\")\r\n",
        "ax[1].legend()"
      ],
      "execution_count": null,
      "outputs": [
        {
          "output_type": "execute_result",
          "data": {
            "text/plain": [
              "<matplotlib.legend.Legend at 0x7fcc3458dc90>"
            ]
          },
          "metadata": {
            "tags": []
          },
          "execution_count": 26
        },
        {
          "output_type": "display_data",
          "data": {
            "image/png": "[encoded data removed]",
            "text/plain": [
              "<Figure size 1080x720 with 2 Axes>"
            ]
          },
          "metadata": {
            "tags": [],
            "needs_background": "light"
          }
        }
      ]
    }
  ]
}